{
 "cells": [
  {
   "cell_type": "code",
   "execution_count": 4,
   "metadata": {},
   "outputs": [],
   "source": [
    "import numpy as np\n",
    "import pandas as pd\n",
    "import matplotlib.pyplot as plt\n",
    "import re \n",
    "import seaborn as sns\n",
    "from scipy import stats\n",
    "plt.rc('figure', figsize=(10, 10))  #把plt默认的图片size调大一点\n",
    "%matplotlib inline"
   ]
  },
  {
   "cell_type": "code",
   "execution_count": 189,
   "metadata": {},
   "outputs": [
    {
     "data": {
      "text/html": [
       "<div>\n",
       "<style scoped>\n",
       "    .dataframe tbody tr th:only-of-type {\n",
       "        vertical-align: middle;\n",
       "    }\n",
       "\n",
       "    .dataframe tbody tr th {\n",
       "        vertical-align: top;\n",
       "    }\n",
       "\n",
       "    .dataframe thead th {\n",
       "        text-align: right;\n",
       "    }\n",
       "</style>\n",
       "<table border=\"1\" class=\"dataframe\">\n",
       "  <thead>\n",
       "    <tr style=\"text-align: right;\">\n",
       "      <th></th>\n",
       "      <th>name</th>\n",
       "      <th>loc</th>\n",
       "      <th>size</th>\n",
       "      <th>area</th>\n",
       "      <th>price</th>\n",
       "      <th>price_sum</th>\n",
       "      <th>dire</th>\n",
       "      <th>floor</th>\n",
       "      <th>buildtime</th>\n",
       "      <th>advantage</th>\n",
       "    </tr>\n",
       "  </thead>\n",
       "  <tbody>\n",
       "    <tr>\n",
       "      <th>0</th>\n",
       "      <td>新高苑</td>\n",
       "      <td>高行-新高苑高宝路229弄、高宝路379弄、高宝路</td>\n",
       "      <td>2室2厅</td>\n",
       "      <td>87.81</td>\n",
       "      <td>41567</td>\n",
       "      <td>365.0</td>\n",
       "      <td>南向</td>\n",
       "      <td>低层（共11层）</td>\n",
       "      <td>2008年建</td>\n",
       "      <td>满二优质教育</td>\n",
       "    </tr>\n",
       "    <tr>\n",
       "      <th>1</th>\n",
       "      <td>光鸿苑</td>\n",
       "      <td>南码头-东三里桥路245弄1-18号、临沂路8弄1-</td>\n",
       "      <td>3室2厅</td>\n",
       "      <td>137</td>\n",
       "      <td>51095</td>\n",
       "      <td>700.0</td>\n",
       "      <td>南北向</td>\n",
       "      <td>高层（共31层）</td>\n",
       "      <td>2001年建</td>\n",
       "      <td>满五优质教育性价比高业主急售\\r\\n                            ...</td>\n",
       "    </tr>\n",
       "    <tr>\n",
       "      <th>2</th>\n",
       "      <td>金都安亭家园</td>\n",
       "      <td>昆山-曹新路88号</td>\n",
       "      <td>2室2厅</td>\n",
       "      <td>69</td>\n",
       "      <td>10870</td>\n",
       "      <td>75.0</td>\n",
       "      <td>南北向</td>\n",
       "      <td>中层（共11层）</td>\n",
       "      <td>2005年建</td>\n",
       "      <td>满五优质教育配套成熟小区中心</td>\n",
       "    </tr>\n",
       "    <tr>\n",
       "      <th>3</th>\n",
       "      <td>太浜巷小区</td>\n",
       "      <td>光新-岚皋路200弄、岚皋路166弄、中山北路赵家</td>\n",
       "      <td>2室1厅</td>\n",
       "      <td>64.06</td>\n",
       "      <td>60100</td>\n",
       "      <td>385.0</td>\n",
       "      <td>南向</td>\n",
       "      <td>中层（共6层）</td>\n",
       "      <td>1986年建</td>\n",
       "      <td>满五配套成熟户型佳\\r\\n                                 ...</td>\n",
       "    </tr>\n",
       "    <tr>\n",
       "      <th>4</th>\n",
       "      <td>佳兆业8号</td>\n",
       "      <td>南桥-佳兆业8号钜庭路99弄</td>\n",
       "      <td>3室2厅</td>\n",
       "      <td>120</td>\n",
       "      <td>25000</td>\n",
       "      <td>300.0</td>\n",
       "      <td>南向</td>\n",
       "      <td>中层（共5层）</td>\n",
       "      <td>2019年建</td>\n",
       "      <td>满五</td>\n",
       "    </tr>\n",
       "  </tbody>\n",
       "</table>\n",
       "</div>"
      ],
      "text/plain": [
       "     name                         loc  size   area  price  price_sum dire  \\\n",
       "0     新高苑   高行-新高苑高宝路229弄、高宝路379弄、高宝路  2室2厅  87.81  41567      365.0   南向   \n",
       "1     光鸿苑  南码头-东三里桥路245弄1-18号、临沂路8弄1-  3室2厅    137  51095      700.0  南北向   \n",
       "2  金都安亭家园                   昆山-曹新路88号  2室2厅     69  10870       75.0  南北向   \n",
       "3   太浜巷小区   光新-岚皋路200弄、岚皋路166弄、中山北路赵家  2室1厅  64.06  60100      385.0   南向   \n",
       "4   佳兆业8号              南桥-佳兆业8号钜庭路99弄  3室2厅    120  25000      300.0   南向   \n",
       "\n",
       "      floor buildtime                                          advantage  \n",
       "0  低层（共11层）    2008年建                                             满二优质教育  \n",
       "1  高层（共31层）    2001年建  满五优质教育性价比高业主急售\\r\\n                            ...  \n",
       "2  中层（共11层）    2005年建                                     满五优质教育配套成熟小区中心  \n",
       "3   中层（共6层）    1986年建  满五配套成熟户型佳\\r\\n                                 ...  \n",
       "4   中层（共5层）    2019年建                                                 满五  "
      ]
     },
     "execution_count": 189,
     "metadata": {},
     "output_type": "execute_result"
    }
   ],
   "source": [
    "data = pd.read_csv('./data/sh_price.csv')\n",
    "data.head()"
   ]
  },
  {
   "cell_type": "code",
   "execution_count": 192,
   "metadata": {},
   "outputs": [
    {
     "data": {
      "text/plain": [
       "buildtime    131\n",
       "advantage      0\n",
       "floor          0\n",
       "dire           0\n",
       "price_sum      0\n",
       "price          0\n",
       "area           0\n",
       "size           0\n",
       "loc            0\n",
       "name           0\n",
       "dtype: int64"
      ]
     },
     "execution_count": 192,
     "metadata": {},
     "output_type": "execute_result"
    }
   ],
   "source": [
    "data.isnull().sum().sort_values(ascending=False)"
   ]
  },
  {
   "cell_type": "code",
   "execution_count": 193,
   "metadata": {},
   "outputs": [
    {
     "data": {
      "text/plain": [
       "(5980, 10)"
      ]
     },
     "execution_count": 193,
     "metadata": {},
     "output_type": "execute_result"
    }
   ],
   "source": [
    "data.shape"
   ]
  },
  {
   "cell_type": "code",
   "execution_count": 194,
   "metadata": {},
   "outputs": [
    {
     "data": {
      "text/html": [
       "<div>\n",
       "<style scoped>\n",
       "    .dataframe tbody tr th:only-of-type {\n",
       "        vertical-align: middle;\n",
       "    }\n",
       "\n",
       "    .dataframe tbody tr th {\n",
       "        vertical-align: top;\n",
       "    }\n",
       "\n",
       "    .dataframe thead th {\n",
       "        text-align: right;\n",
       "    }\n",
       "</style>\n",
       "<table border=\"1\" class=\"dataframe\">\n",
       "  <thead>\n",
       "    <tr style=\"text-align: right;\">\n",
       "      <th></th>\n",
       "      <th>price</th>\n",
       "      <th>price_sum</th>\n",
       "    </tr>\n",
       "  </thead>\n",
       "  <tbody>\n",
       "    <tr>\n",
       "      <th>count</th>\n",
       "      <td>5980.000000</td>\n",
       "      <td>5980.000000</td>\n",
       "    </tr>\n",
       "    <tr>\n",
       "      <th>mean</th>\n",
       "      <td>55186.723579</td>\n",
       "      <td>754.917316</td>\n",
       "    </tr>\n",
       "    <tr>\n",
       "      <th>std</th>\n",
       "      <td>32097.385076</td>\n",
       "      <td>1360.330520</td>\n",
       "    </tr>\n",
       "    <tr>\n",
       "      <th>min</th>\n",
       "      <td>7086.000000</td>\n",
       "      <td>27.500000</td>\n",
       "    </tr>\n",
       "    <tr>\n",
       "      <th>25%</th>\n",
       "      <td>34948.000000</td>\n",
       "      <td>257.750000</td>\n",
       "    </tr>\n",
       "    <tr>\n",
       "      <th>50%</th>\n",
       "      <td>46821.000000</td>\n",
       "      <td>385.000000</td>\n",
       "    </tr>\n",
       "    <tr>\n",
       "      <th>75%</th>\n",
       "      <td>65783.750000</td>\n",
       "      <td>700.000000</td>\n",
       "    </tr>\n",
       "    <tr>\n",
       "      <th>max</th>\n",
       "      <td>314381.000000</td>\n",
       "      <td>46500.000000</td>\n",
       "    </tr>\n",
       "  </tbody>\n",
       "</table>\n",
       "</div>"
      ],
      "text/plain": [
       "               price     price_sum\n",
       "count    5980.000000   5980.000000\n",
       "mean    55186.723579    754.917316\n",
       "std     32097.385076   1360.330520\n",
       "min      7086.000000     27.500000\n",
       "25%     34948.000000    257.750000\n",
       "50%     46821.000000    385.000000\n",
       "75%     65783.750000    700.000000\n",
       "max    314381.000000  46500.000000"
      ]
     },
     "execution_count": 194,
     "metadata": {},
     "output_type": "execute_result"
    }
   ],
   "source": [
    "data.describe()"
   ]
  },
  {
   "cell_type": "code",
   "execution_count": 195,
   "metadata": {},
   "outputs": [
    {
     "data": {
      "text/plain": [
       "340"
      ]
     },
     "execution_count": 195,
     "metadata": {},
     "output_type": "execute_result"
    }
   ],
   "source": [
    "# 缺失值处理\n",
    "data['buildtime'] = data['buildtime'].str.extract('(\\d+).*')\n",
    "data['buildtime'].isnull().sum()"
   ]
  },
  {
   "cell_type": "code",
   "execution_count": 196,
   "metadata": {},
   "outputs": [
    {
     "data": {
      "text/plain": [
       "0    214\n",
       "dtype: int64"
      ]
     },
     "execution_count": 196,
     "metadata": {},
     "output_type": "execute_result"
    }
   ],
   "source": [
    "# 没有朝向的有214\n",
    "d = data['dire'].str.extract('(\\d+).*').notnull().sum()\n",
    "d"
   ]
  },
  {
   "cell_type": "code",
   "execution_count": 197,
   "metadata": {},
   "outputs": [],
   "source": [
    "# 观察数据发现朝向不正确的没有建造年份的有214个，一般都是朝向写进了建造年份;\n",
    "# 另外朝向正确的有126是没有建造日期的，故214+126 = 340，占总数为340/5980=5.69%\n",
    "# 由于异常值占比小于10%,因此将这些空值以及异常值都剔除\n",
    "data.dropna(axis=0,inplace=True)"
   ]
  },
  {
   "cell_type": "code",
   "execution_count": 198,
   "metadata": {},
   "outputs": [
    {
     "data": {
      "text/plain": [
       "advantage    0\n",
       "buildtime    0\n",
       "floor        0\n",
       "dire         0\n",
       "price_sum    0\n",
       "price        0\n",
       "area         0\n",
       "size         0\n",
       "loc          0\n",
       "name         0\n",
       "dtype: int64"
      ]
     },
     "execution_count": 198,
     "metadata": {},
     "output_type": "execute_result"
    }
   ],
   "source": [
    "data.isnull().sum().sort_values(ascending=False)"
   ]
  },
  {
   "cell_type": "code",
   "execution_count": 199,
   "metadata": {},
   "outputs": [
    {
     "data": {
      "text/plain": [
       "(5640, 10)"
      ]
     },
     "execution_count": 199,
     "metadata": {},
     "output_type": "execute_result"
    }
   ],
   "source": [
    "# 数据空值及异常值清洗完毕，数据大小为(5640, 10)\n",
    "data.shape"
   ]
  },
  {
   "cell_type": "code",
   "execution_count": 200,
   "metadata": {},
   "outputs": [
    {
     "data": {
      "text/plain": [
       "<matplotlib.axes._subplots.AxesSubplot at 0x27b22856630>"
      ]
     },
     "execution_count": 200,
     "metadata": {},
     "output_type": "execute_result"
    },
    {
     "data": {
      "image/png": "[encoded data removed]",
      "text/plain": [
       "<Figure size 432x288 with 1 Axes>"
      ]
     },
     "metadata": {
      "needs_background": "light"
     },
     "output_type": "display_data"
    }
   ],
   "source": [
    "#  我们来看下单价的分布\n",
    "sns.distplot(data['price'])"
   ]
  },
  {
   "cell_type": "code",
   "execution_count": 201,
   "metadata": {},
   "outputs": [
    {
     "data": {
      "text/plain": [
       "2.0641840643568283"
      ]
     },
     "execution_count": 201,
     "metadata": {},
     "output_type": "execute_result"
    }
   ],
   "source": [
    "# 上图属于正偏分布，其偏度为2.06418\n",
    "data['price'].skew()"
   ]
  },
  {
   "cell_type": "code",
   "execution_count": 202,
   "metadata": {},
   "outputs": [
    {
     "data": {
      "text/plain": [
       "6.918070294151985"
      ]
     },
     "execution_count": 202,
     "metadata": {},
     "output_type": "execute_result"
    }
   ],
   "source": [
    "# 峰度为\n",
    "data['price'].kurt()"
   ]
  },
  {
   "cell_type": "code",
   "execution_count": 203,
   "metadata": {},
   "outputs": [
    {
     "data": {
      "text/plain": [
       "<matplotlib.axes._subplots.AxesSubplot at 0x27b2297d0f0>"
      ]
     },
     "execution_count": 203,
     "metadata": {},
     "output_type": "execute_result"
    },
    {
     "data": {
      "image/png": "[encoded data removed]",
      "text/plain": [
       "<Figure size 432x288 with 1 Axes>"
      ]
     },
     "metadata": {
      "needs_background": "light"
     },
     "output_type": "display_data"
    }
   ],
   "source": [
    "# 观察price的箱型图，发现单价中位值在5W左右，部分离群点大于12万\n",
    "sns.boxplot(data=data['price'])"
   ]
  },
  {
   "cell_type": "code",
   "execution_count": 204,
   "metadata": {},
   "outputs": [
    {
     "data": {
      "text/plain": [
       "<matplotlib.axes._subplots.AxesSubplot at 0x27b229c7860>"
      ]
     },
     "execution_count": 204,
     "metadata": {},
     "output_type": "execute_result"
    },
    {
     "data": {
      "image/png": "[encoded data removed]",
      "text/plain": [
       "<Figure size 432x288 with 1 Axes>"
      ]
     },
     "metadata": {
      "needs_background": "light"
     },
     "output_type": "display_data"
    }
   ],
   "source": [
    "sns.boxplot(data=data['area'])"
   ]
  },
  {
   "cell_type": "code",
   "execution_count": 67,
   "metadata": {},
   "outputs": [
    {
     "data": {
      "text/html": [
       "<div>\n",
       "<style scoped>\n",
       "    .dataframe tbody tr th:only-of-type {\n",
       "        vertical-align: middle;\n",
       "    }\n",
       "\n",
       "    .dataframe tbody tr th {\n",
       "        vertical-align: top;\n",
       "    }\n",
       "\n",
       "    .dataframe thead th {\n",
       "        text-align: right;\n",
       "    }\n",
       "</style>\n",
       "<table border=\"1\" class=\"dataframe\">\n",
       "  <thead>\n",
       "    <tr style=\"text-align: right;\">\n",
       "      <th></th>\n",
       "      <th>name</th>\n",
       "      <th>loc</th>\n",
       "      <th>size</th>\n",
       "      <th>area</th>\n",
       "      <th>price</th>\n",
       "      <th>price_sum</th>\n",
       "      <th>dire</th>\n",
       "      <th>floor</th>\n",
       "      <th>buildtime</th>\n",
       "      <th>advantage</th>\n",
       "    </tr>\n",
       "  </thead>\n",
       "  <tbody>\n",
       "    <tr>\n",
       "      <th>32</th>\n",
       "      <td>翠湖天地御苑</td>\n",
       "      <td>新天地-翠湖天地御苑顺昌路168弄</td>\n",
       "      <td>4室2厅</td>\n",
       "      <td>280</td>\n",
       "      <td>171429</td>\n",
       "      <td>4800.0</td>\n",
       "      <td>南向</td>\n",
       "      <td>中层（共30层）</td>\n",
       "      <td>2006</td>\n",
       "      <td>满二优质教育\\r\\n                                    ...</td>\n",
       "    </tr>\n",
       "    <tr>\n",
       "      <th>35</th>\n",
       "      <td>西康路989</td>\n",
       "      <td>长寿路-西康路989弄</td>\n",
       "      <td>2室2厅</td>\n",
       "      <td>89.3</td>\n",
       "      <td>108623</td>\n",
       "      <td>970.0</td>\n",
       "      <td>南向</td>\n",
       "      <td>高层（共34层）</td>\n",
       "      <td>2012</td>\n",
       "      <td>满二\\r\\n                                        ...</td>\n",
       "    </tr>\n",
       "    <tr>\n",
       "      <th>51</th>\n",
       "      <td>中粮海景壹号</td>\n",
       "      <td>陆家嘴-银城中路600弄</td>\n",
       "      <td>4室3厅</td>\n",
       "      <td>393.36</td>\n",
       "      <td>249136</td>\n",
       "      <td>9800.0</td>\n",
       "      <td>东向</td>\n",
       "      <td>中层（共39层）</td>\n",
       "      <td>2010</td>\n",
       "      <td>满二配套成熟户型佳\\r\\n                                 ...</td>\n",
       "    </tr>\n",
       "    <tr>\n",
       "      <th>61</th>\n",
       "      <td>中粮海景壹号</td>\n",
       "      <td>陆家嘴-银城中路600弄</td>\n",
       "      <td>4室2厅</td>\n",
       "      <td>347</td>\n",
       "      <td>210375</td>\n",
       "      <td>7300.0</td>\n",
       "      <td>东向</td>\n",
       "      <td>高层（共39层）</td>\n",
       "      <td>2009</td>\n",
       "      <td>满二\\r\\n                                        ...</td>\n",
       "    </tr>\n",
       "    <tr>\n",
       "      <th>73</th>\n",
       "      <td>中粮海景壹号</td>\n",
       "      <td>陆家嘴-银城中路600弄</td>\n",
       "      <td>4室2厅</td>\n",
       "      <td>320.65</td>\n",
       "      <td>230251</td>\n",
       "      <td>7383.0</td>\n",
       "      <td>东西向</td>\n",
       "      <td>高层（共35层）</td>\n",
       "      <td>2009</td>\n",
       "      <td>满二配套成熟户型佳\\r\\n                                 ...</td>\n",
       "    </tr>\n",
       "    <tr>\n",
       "      <th>...</th>\n",
       "      <td>...</td>\n",
       "      <td>...</td>\n",
       "      <td>...</td>\n",
       "      <td>...</td>\n",
       "      <td>...</td>\n",
       "      <td>...</td>\n",
       "      <td>...</td>\n",
       "      <td>...</td>\n",
       "      <td>...</td>\n",
       "      <td>...</td>\n",
       "    </tr>\n",
       "    <tr>\n",
       "      <th>5910</th>\n",
       "      <td>世茂滨江花园</td>\n",
       "      <td>陆家嘴-世茂滨江花园潍坊西路1弄、潍坊西路2弄</td>\n",
       "      <td>4室2厅</td>\n",
       "      <td>283</td>\n",
       "      <td>116608</td>\n",
       "      <td>3300.0</td>\n",
       "      <td>东向</td>\n",
       "      <td>高层（共62层）</td>\n",
       "      <td>2004</td>\n",
       "      <td>满二\\r\\n                                        ...</td>\n",
       "    </tr>\n",
       "    <tr>\n",
       "      <th>5918</th>\n",
       "      <td>梅园三街坊</td>\n",
       "      <td>源深-商城路991弄、商城路1025弄、乳山路13</td>\n",
       "      <td>1室1厅</td>\n",
       "      <td>33</td>\n",
       "      <td>120606</td>\n",
       "      <td>398.0</td>\n",
       "      <td>南向</td>\n",
       "      <td>中层（共6层）</td>\n",
       "      <td>1985</td>\n",
       "      <td>满二优质教育\\r\\n                                    ...</td>\n",
       "    </tr>\n",
       "    <tr>\n",
       "      <th>5923</th>\n",
       "      <td>世茂滨江花园</td>\n",
       "      <td>陆家嘴-潍坊西路1弄、潍坊西路2弄</td>\n",
       "      <td>3室2厅</td>\n",
       "      <td>236.95</td>\n",
       "      <td>111838</td>\n",
       "      <td>2650.0</td>\n",
       "      <td>东向</td>\n",
       "      <td>低层（共54层）</td>\n",
       "      <td>2004</td>\n",
       "      <td>满二\\r\\n                                        ...</td>\n",
       "    </tr>\n",
       "    <tr>\n",
       "      <th>5926</th>\n",
       "      <td>华府天地</td>\n",
       "      <td>新天地-华府天地马当路222弄</td>\n",
       "      <td>4室2厅</td>\n",
       "      <td>301.23</td>\n",
       "      <td>174285</td>\n",
       "      <td>5250.0</td>\n",
       "      <td>东向</td>\n",
       "      <td>低层（共17层）</td>\n",
       "      <td>2005</td>\n",
       "      <td>满二优质教育\\r\\n                                    ...</td>\n",
       "    </tr>\n",
       "    <tr>\n",
       "      <th>5951</th>\n",
       "      <td>翠湖天地御苑</td>\n",
       "      <td>新天地-翠湖天地御苑顺昌路168弄</td>\n",
       "      <td>3室2厅</td>\n",
       "      <td>182.46</td>\n",
       "      <td>131536</td>\n",
       "      <td>2400.0</td>\n",
       "      <td>南北向</td>\n",
       "      <td>低层（共32层）</td>\n",
       "      <td>2006</td>\n",
       "      <td>满二优质教育\\r\\n                                    ...</td>\n",
       "    </tr>\n",
       "  </tbody>\n",
       "</table>\n",
       "<p>446 rows × 10 columns</p>\n",
       "</div>"
      ],
      "text/plain": [
       "        name                        loc  size    area   price  price_sum dire  \\\n",
       "32    翠湖天地御苑          新天地-翠湖天地御苑顺昌路168弄  4室2厅     280  171429     4800.0   南向   \n",
       "35    西康路989                长寿路-西康路989弄  2室2厅    89.3  108623      970.0   南向   \n",
       "51    中粮海景壹号               陆家嘴-银城中路600弄  4室3厅  393.36  249136     9800.0   东向   \n",
       "61    中粮海景壹号               陆家嘴-银城中路600弄  4室2厅     347  210375     7300.0   东向   \n",
       "73    中粮海景壹号               陆家嘴-银城中路600弄  4室2厅  320.65  230251     7383.0  东西向   \n",
       "...      ...                        ...   ...     ...     ...        ...  ...   \n",
       "5910  世茂滨江花园    陆家嘴-世茂滨江花园潍坊西路1弄、潍坊西路2弄  4室2厅     283  116608     3300.0   东向   \n",
       "5918   梅园三街坊  源深-商城路991弄、商城路1025弄、乳山路13  1室1厅      33  120606      398.0   南向   \n",
       "5923  世茂滨江花园          陆家嘴-潍坊西路1弄、潍坊西路2弄  3室2厅  236.95  111838     2650.0   东向   \n",
       "5926    华府天地            新天地-华府天地马当路222弄  4室2厅  301.23  174285     5250.0   东向   \n",
       "5951  翠湖天地御苑          新天地-翠湖天地御苑顺昌路168弄  3室2厅  182.46  131536     2400.0  南北向   \n",
       "\n",
       "         floor buildtime                                          advantage  \n",
       "32    中层（共30层）      2006  满二优质教育\\r\\n                                    ...  \n",
       "35    高层（共34层）      2012  满二\\r\\n                                        ...  \n",
       "51    中层（共39层）      2010  满二配套成熟户型佳\\r\\n                                 ...  \n",
       "61    高层（共39层）      2009  满二\\r\\n                                        ...  \n",
       "73    高层（共35层）      2009  满二配套成熟户型佳\\r\\n                                 ...  \n",
       "...        ...       ...                                                ...  \n",
       "5910  高层（共62层）      2004  满二\\r\\n                                        ...  \n",
       "5918   中层（共6层）      1985  满二优质教育\\r\\n                                    ...  \n",
       "5923  低层（共54层）      2004  满二\\r\\n                                        ...  \n",
       "5926  低层（共17层）      2005  满二优质教育\\r\\n                                    ...  \n",
       "5951  低层（共32层）      2006  满二优质教育\\r\\n                                    ...  \n",
       "\n",
       "[446 rows x 10 columns]"
      ]
     },
     "execution_count": 67,
     "metadata": {},
     "output_type": "execute_result"
    }
   ],
   "source": [
    "data[data['price']>100000] #观察单价大于150000，均是非常高档的小区"
   ]
  },
  {
   "cell_type": "code",
   "execution_count": 205,
   "metadata": {},
   "outputs": [
    {
     "data": {
      "text/plain": [
       "array(['2008', '2001', '2005', '1986', '1997', '1994', '2013', '2003',\n",
       "       '2016', '2000', '1991', '2017', '1990', '1974', '2015', '2007',\n",
       "       '1987', '2012', '2006', '2011', '1985', '2009', '2014', '1996',\n",
       "       '2010', '1999', '2004', '1995', '1989', '2002', '1992', '1993',\n",
       "       '1983', '1984', '1998', '1982', '2018', '1981', '1979', '1988',\n",
       "       '1978', '1980', '1957', '1929', '1936', '1975', '1935', '1960'],\n",
       "      dtype=object)"
      ]
     },
     "execution_count": 205,
     "metadata": {},
     "output_type": "execute_result"
    }
   ],
   "source": [
    "# 有些房子的建成时间存在异常，例如2020,2019，将这些删除\n",
    "index = data[data['buildtime'].isin(['2019','2020'])].index\n",
    "data.drop(index,inplace=True)\n",
    "data['buildtime'].unique()"
   ]
  },
  {
   "cell_type": "code",
   "execution_count": 206,
   "metadata": {},
   "outputs": [
    {
     "data": {
      "text/plain": [
       "(5565, 10)"
      ]
     },
     "execution_count": 206,
     "metadata": {},
     "output_type": "execute_result"
    }
   ],
   "source": [
    "data.shape"
   ]
  },
  {
   "cell_type": "code",
   "execution_count": 207,
   "metadata": {},
   "outputs": [
    {
     "data": {
      "text/plain": [
       "(array([ 0,  1,  2,  3,  4,  5,  6,  7,  8,  9, 10, 11, 12, 13, 14, 15, 16,\n",
       "        17, 18, 19, 20, 21, 22, 23, 24, 25, 26, 27, 28, 29, 30, 31, 32, 33,\n",
       "        34, 35, 36, 37, 38, 39, 40, 41, 42, 43, 44, 45, 46, 47]),\n",
       " <a list of 48 Text xticklabel objects>)"
      ]
     },
     "execution_count": 207,
     "metadata": {},
     "output_type": "execute_result"
    },
    {
     "data": {
      "image/png": "[encoded data removed]",
      "text/plain": [
       "<Figure size 1152x576 with 1 Axes>"
      ]
     },
     "metadata": {
      "needs_background": "light"
     },
     "output_type": "display_data"
    }
   ],
   "source": [
    "# 建造时间，总体看年份越老的房子越吃香\n",
    "df = pd.concat([data['price'],data['buildtime']],axis=1)\n",
    "f,ax = plt.subplots(figsize=(16,8))\n",
    "fig = sns.boxplot(x='buildtime',y='price',data=df)\n",
    "# fig.axis(ymin=0,ymax=800000)\n",
    "plt.xticks(rotation=90)"
   ]
  },
  {
   "cell_type": "code",
   "execution_count": 208,
   "metadata": {},
   "outputs": [
    {
     "data": {
      "text/plain": [
       "array(['南向', '南北向', '东向', '东西向', '东南向', '西北向', '西向', '西南向', '东北向', '北向'],\n",
       "      dtype=object)"
      ]
     },
     "execution_count": 208,
     "metadata": {},
     "output_type": "execute_result"
    }
   ],
   "source": [
    "data['dire'].unique() #  朝向值无异常"
   ]
  },
  {
   "cell_type": "code",
   "execution_count": 209,
   "metadata": {},
   "outputs": [
    {
     "data": {
      "text/plain": [
       "array(['低层（共11层）', '高层（共31层）', '中层（共11层）', '中层（共6层）', '高层（共6层）',\n",
       "       '中层（共18层）', '高层（共11层）', '中层（共17层）', '中层（共15层）', '高层（共7层）',\n",
       "       '低层（共6层）', '中层（共20层）', '中层（共4层）', '高层（共18层）', '中层（共5层）',\n",
       "       '高层（共25层）', '高层（共1层）', '中层（共8层）', '中层（共3层）', '低层（共12层）',\n",
       "       '中层（共30层）', '高层（共22层）', '高层（共34层）', '高层（共27层）', '低层（共18层）',\n",
       "       '高层（共16层）', '低层（共27层）', '中层（共28层）', '中层（共39层）', '低层（共17层）',\n",
       "       '低层（共15层）', '中层（共25层）', '高层（共17层）', '高层（共39层）', '中层（共21层）',\n",
       "       '低层（共21层）', '高层（共35层）', '高层（共50层）', '低层（共4层）', '低层（共30层）',\n",
       "       '低层（共5层）', '中层（共23层）', '中层（共16层）', '高层（共20层）', '低层（共38层）',\n",
       "       '高层（共14层）', '低层（共24层）', '高层（共15层）', '中层（共14层）', '中层（共33层）',\n",
       "       '中层（共31层）', '低层（共39层）', '中层（共9层）', '高层（共24层）', '高层（共19层）',\n",
       "       '高层（共12层）', '中层（共19层）', '中层（共7层）', '中层（共12层）', '高层（共36层）',\n",
       "       '低层（共7层）', '高层（共4层）', '中层（共26层）', '高层（共29层）', '低层（共3层）', '高层（共5层）',\n",
       "       '低层（共9层）', '低层（共42层）', '高层（共8层）', '低层（共13层）', '低层（共33层）',\n",
       "       '高层（共28层）', '中层（共29层）', '中层（共42层）', '高层（共37层）', '中层（共13层）',\n",
       "       '中层（共24层）', '高层（共9层）', '高层（共21层）', '低层（共28层）', '高层（共62层）',\n",
       "       '中层（共22层）', '高层（共26层）', '高层（共10层）', '低层（共26层）', '低层（共14层）',\n",
       "       '中层（共45层）', '低层（共16层）', '中层（共27层）', '高层（共54层）', '中层（共32层）',\n",
       "       '低层（共43层）', '高层（共52层）', '高层（共23层）', '低层（共20层）', '高层（共33层）',\n",
       "       '低层（共10层）', '高层（共32层）', '低层（共40层）', '高层（共13层）', '高层（共56层）',\n",
       "       '低层（共32层）', '中层（共35层）', '高层（共30层）', '低层（共25层）', '低层（共37层）',\n",
       "       '低层（共54层）', '低层（共8层）', '低层（共35层）', '低层（共31层）', '中层（共49层）',\n",
       "       '低层（共44层）', '高层（共40层）', '低层（共22层）', '低层（共36层）', '低层（共47层）',\n",
       "       '中层（共54层）', '低层（共34层）', '中层（共34层）', '高层（共60层）', '低层（共48层）',\n",
       "       '中层（共36层）', '低层（共19层）', '低层（共23层）', '中层（共44层）', '中层（共40层）',\n",
       "       '中层（共62层）', '高层（共43层）', '中层（共37层）', '高层（共47层）', '低层（共52层）',\n",
       "       '高层（共59层）', '低层（共29层）', '高层（共42层）', '中层（共50层）', '高层（共38层）',\n",
       "       '高层（共3层）', '中层（共48层）', '中层（共60层）', '中层（共10层）', '低层（共63层）',\n",
       "       '中层（共38层）', '低层（共61层）', '中层（共47层）', '中层（共43层）', '低层（共45层）',\n",
       "       '高层（共48层）', '低层（共50层）', '高层（共63层）'], dtype=object)"
      ]
     },
     "execution_count": 209,
     "metadata": {},
     "output_type": "execute_result"
    }
   ],
   "source": [
    "data['floor'].unique()   # 楼层数据较正常"
   ]
  },
  {
   "cell_type": "code",
   "execution_count": 210,
   "metadata": {},
   "outputs": [
    {
     "data": {
      "text/plain": [
       "array(['2室2厅', '3室2厅', '2室1厅', '5室1厅', '1室1厅', '4室2厅', '4室3厅', '3室1厅',\n",
       "       '6室3厅', '1室2厅', '5室2厅', '5室3厅', '1室0厅', '2室0厅', '3室0厅', '6室2厅',\n",
       "       '5室4厅', '3室3厅', '4室4厅', '2室3厅', '4室1厅', '8室2厅', '7室2厅', '8室3厅'],\n",
       "      dtype=object)"
      ]
     },
     "execution_count": 210,
     "metadata": {},
     "output_type": "execute_result"
    }
   ],
   "source": [
    "data['size'].unique()"
   ]
  },
  {
   "cell_type": "code",
   "execution_count": 211,
   "metadata": {},
   "outputs": [
    {
     "data": {
      "text/html": [
       "<div>\n",
       "<style scoped>\n",
       "    .dataframe tbody tr th:only-of-type {\n",
       "        vertical-align: middle;\n",
       "    }\n",
       "\n",
       "    .dataframe tbody tr th {\n",
       "        vertical-align: top;\n",
       "    }\n",
       "\n",
       "    .dataframe thead th {\n",
       "        text-align: right;\n",
       "    }\n",
       "</style>\n",
       "<table border=\"1\" class=\"dataframe\">\n",
       "  <thead>\n",
       "    <tr style=\"text-align: right;\">\n",
       "      <th></th>\n",
       "      <th>area</th>\n",
       "      <th>price</th>\n",
       "    </tr>\n",
       "  </thead>\n",
       "  <tbody>\n",
       "    <tr>\n",
       "      <th>0</th>\n",
       "      <td>87.81</td>\n",
       "      <td>41567</td>\n",
       "    </tr>\n",
       "    <tr>\n",
       "      <th>1</th>\n",
       "      <td>137</td>\n",
       "      <td>51095</td>\n",
       "    </tr>\n",
       "    <tr>\n",
       "      <th>2</th>\n",
       "      <td>69</td>\n",
       "      <td>10870</td>\n",
       "    </tr>\n",
       "    <tr>\n",
       "      <th>3</th>\n",
       "      <td>64.06</td>\n",
       "      <td>60100</td>\n",
       "    </tr>\n",
       "    <tr>\n",
       "      <th>5</th>\n",
       "      <td>58.62</td>\n",
       "      <td>52883</td>\n",
       "    </tr>\n",
       "    <tr>\n",
       "      <th>...</th>\n",
       "      <td>...</td>\n",
       "      <td>...</td>\n",
       "    </tr>\n",
       "    <tr>\n",
       "      <th>5975</th>\n",
       "      <td>242.81</td>\n",
       "      <td>86487</td>\n",
       "    </tr>\n",
       "    <tr>\n",
       "      <th>5976</th>\n",
       "      <td>89.9</td>\n",
       "      <td>75417</td>\n",
       "    </tr>\n",
       "    <tr>\n",
       "      <th>5977</th>\n",
       "      <td>137.13</td>\n",
       "      <td>91154</td>\n",
       "    </tr>\n",
       "    <tr>\n",
       "      <th>5978</th>\n",
       "      <td>67.1</td>\n",
       "      <td>46200</td>\n",
       "    </tr>\n",
       "    <tr>\n",
       "      <th>5979</th>\n",
       "      <td>30.1</td>\n",
       "      <td>79734</td>\n",
       "    </tr>\n",
       "  </tbody>\n",
       "</table>\n",
       "<p>5565 rows × 2 columns</p>\n",
       "</div>"
      ],
      "text/plain": [
       "        area  price\n",
       "0      87.81  41567\n",
       "1        137  51095\n",
       "2         69  10870\n",
       "3      64.06  60100\n",
       "5      58.62  52883\n",
       "...      ...    ...\n",
       "5975  242.81  86487\n",
       "5976    89.9  75417\n",
       "5977  137.13  91154\n",
       "5978    67.1  46200\n",
       "5979    30.1  79734\n",
       "\n",
       "[5565 rows x 2 columns]"
      ]
     },
     "execution_count": 211,
     "metadata": {},
     "output_type": "execute_result"
    }
   ],
   "source": [
    "# 房价与房屋面积大小关系\n",
    "df = pd.concat([data['area'],data['price']],axis=1)\n",
    "df"
   ]
  },
  {
   "cell_type": "code",
   "execution_count": 212,
   "metadata": {},
   "outputs": [
    {
     "data": {
      "text/plain": [
       "name          object\n",
       "loc           object\n",
       "size          object\n",
       "area         float64\n",
       "price          int64\n",
       "price_sum    float64\n",
       "dire          object\n",
       "floor         object\n",
       "buildtime      int32\n",
       "advantage     object\n",
       "dtype: object"
      ]
     },
     "execution_count": 212,
     "metadata": {},
     "output_type": "execute_result"
    }
   ],
   "source": [
    "data['area'] = data['area'].astype(float)\n",
    "data['buildtime'] = data['buildtime'].astype(int)\n",
    "data.dtypes"
   ]
  },
  {
   "cell_type": "code",
   "execution_count": 213,
   "metadata": {},
   "outputs": [
    {
     "data": {
      "text/html": [
       "<div>\n",
       "<style scoped>\n",
       "    .dataframe tbody tr th:only-of-type {\n",
       "        vertical-align: middle;\n",
       "    }\n",
       "\n",
       "    .dataframe tbody tr th {\n",
       "        vertical-align: top;\n",
       "    }\n",
       "\n",
       "    .dataframe thead th {\n",
       "        text-align: right;\n",
       "    }\n",
       "</style>\n",
       "<table border=\"1\" class=\"dataframe\">\n",
       "  <thead>\n",
       "    <tr style=\"text-align: right;\">\n",
       "      <th></th>\n",
       "      <th>name</th>\n",
       "      <th>loc</th>\n",
       "      <th>size</th>\n",
       "      <th>area</th>\n",
       "      <th>price</th>\n",
       "      <th>price_sum</th>\n",
       "      <th>dire</th>\n",
       "      <th>floor</th>\n",
       "      <th>buildtime</th>\n",
       "      <th>advantage</th>\n",
       "    </tr>\n",
       "  </thead>\n",
       "  <tbody>\n",
       "    <tr>\n",
       "      <th>1473</th>\n",
       "      <td>翠湖天地嘉苑</td>\n",
       "      <td>新天地-翠湖天地嘉苑黄陂南路506弄</td>\n",
       "      <td>1室2厅</td>\n",
       "      <td>90.00</td>\n",
       "      <td>162778</td>\n",
       "      <td>1465.0</td>\n",
       "      <td>南向</td>\n",
       "      <td>中层（共29层）</td>\n",
       "      <td>2008</td>\n",
       "      <td>满五优质教育\\r\\n                                    ...</td>\n",
       "    </tr>\n",
       "    <tr>\n",
       "      <th>4914</th>\n",
       "      <td>岳阳路77弄小区</td>\n",
       "      <td>建国西路-岳阳路77弄</td>\n",
       "      <td>1室1厅</td>\n",
       "      <td>35.36</td>\n",
       "      <td>151301</td>\n",
       "      <td>535.0</td>\n",
       "      <td>南向</td>\n",
       "      <td>高层（共6层）</td>\n",
       "      <td>1980</td>\n",
       "      <td>满五优质教育首付低总价低\\r\\n                              ...</td>\n",
       "    </tr>\n",
       "  </tbody>\n",
       "</table>\n",
       "</div>"
      ],
      "text/plain": [
       "          name                 loc  size   area   price  price_sum dire  \\\n",
       "1473    翠湖天地嘉苑  新天地-翠湖天地嘉苑黄陂南路506弄  1室2厅  90.00  162778     1465.0   南向   \n",
       "4914  岳阳路77弄小区         建国西路-岳阳路77弄  1室1厅  35.36  151301      535.0   南向   \n",
       "\n",
       "         floor  buildtime                                          advantage  \n",
       "1473  中层（共29层）       2008  满五优质教育\\r\\n                                    ...  \n",
       "4914   高层（共6层）       1980  满五优质教育首付低总价低\\r\\n                              ...  "
      ]
     },
     "execution_count": 213,
     "metadata": {},
     "output_type": "execute_result"
    }
   ],
   "source": [
    "data[(data['area']<100) & (data['price']>150000)]"
   ]
  },
  {
   "cell_type": "code",
   "execution_count": 214,
   "metadata": {},
   "outputs": [
    {
     "name": "stderr",
     "output_type": "stream",
     "text": [
      "d:\\virtualenv\\hp_pre\\lib\\site-packages\\seaborn\\axisgrid.py:1848: UserWarning: JointGrid annotation is deprecated and will be removed in a future release.\n",
      "  warnings.warn(UserWarning(msg))\n"
     ]
    },
    {
     "data": {
      "text/plain": [
       "<seaborn.axisgrid.JointGrid at 0x27b231325c0>"
      ]
     },
     "execution_count": 214,
     "metadata": {},
     "output_type": "execute_result"
    },
    {
     "data": {
      "image/png": "[encoded data removed]",
      "text/plain": [
       "<Figure size 600x600 with 3 Axes>"
      ]
     },
     "metadata": {
      "needs_background": "light"
     },
     "output_type": "display_data"
    }
   ],
   "source": [
    "# 结果可见价格与面积之间有一定的正相关关系\n",
    "from pylab import mpl\n",
    "mpl.rcParams['font.sans-serif'] = ['SimHei']  #解决seaborn中文字体显示问题\n",
    "g=sns.jointplot(x='area',y='price',data=data, kind='reg' ,stat_func=stats.pearsonr)\n",
    "g.fig.set_dpi(100)\n",
    "g.ax_joint.set_xlabel('面积', fontweight='bold')\n",
    "g.ax_joint.set_ylabel('价格', fontweight='bold')\n",
    "g"
   ]
  },
  {
   "cell_type": "code",
   "execution_count": 215,
   "metadata": {},
   "outputs": [
    {
     "data": {
      "image/png": "[encoded data removed]",
      "text/plain": [
       "<Figure size 1296x576 with 2 Axes>"
      ]
     },
     "metadata": {
      "needs_background": "light"
     },
     "output_type": "display_data"
    }
   ],
   "source": [
    "#  分析建造时间，1988年以后建造的房子居多，上海也是从那个时候开始发展\n",
    "f,ax = plt.subplots(1,2,figsize=(18,8))\n",
    "data['buildtime'].value_counts(bins=9).plot.pie(autopct='%1.1f%%',ax=ax[0],shadow=True)\n",
    "ax[0].set_title('buildtime')\n",
    "ax[0].set_ylabel('')\n",
    "sns.countplot('buildtime',data=data,ax=ax[1])\n",
    "ax[1].set_title('buildtime')\n",
    "plt.xticks(rotation=50)\n",
    "plt.show()"
   ]
  },
  {
   "cell_type": "code",
   "execution_count": 216,
   "metadata": {},
   "outputs": [
    {
     "data": {
      "image/png": "[encoded data removed]",
      "text/plain": [
       "<Figure size 1296x576 with 2 Axes>"
      ]
     },
     "metadata": {
      "needs_background": "light"
     },
     "output_type": "display_data"
    }
   ],
   "source": [
    "#  分析朝向，南向以及南北向的较多约95%\n",
    "f,ax = plt.subplots(1,2,figsize=(18,8))\n",
    "data['dire'].value_counts().plot.pie(autopct='%1.1f%%',ax=ax[0],shadow=True)\n",
    "ax[0].set_title('dire')\n",
    "ax[0].set_ylabel('')\n",
    "sns.countplot('dire',data=data,ax=ax[1])\n",
    "ax[1].set_title('dire')\n",
    "plt.xticks(rotation=50)\n",
    "plt.show()"
   ]
  },
  {
   "cell_type": "code",
   "execution_count": 217,
   "metadata": {},
   "outputs": [],
   "source": [
    "# 重置索引\n",
    "data = data.reset_index(drop=True)"
   ]
  },
  {
   "cell_type": "code",
   "execution_count": 243,
   "metadata": {},
   "outputs": [
    {
     "data": {
      "text/html": [
       "<div>\n",
       "<style scoped>\n",
       "    .dataframe tbody tr th:only-of-type {\n",
       "        vertical-align: middle;\n",
       "    }\n",
       "\n",
       "    .dataframe tbody tr th {\n",
       "        vertical-align: top;\n",
       "    }\n",
       "\n",
       "    .dataframe thead th {\n",
       "        text-align: right;\n",
       "    }\n",
       "</style>\n",
       "<table border=\"1\" class=\"dataframe\">\n",
       "  <thead>\n",
       "    <tr style=\"text-align: right;\">\n",
       "      <th></th>\n",
       "      <th>name</th>\n",
       "      <th>loc</th>\n",
       "      <th>size</th>\n",
       "      <th>area</th>\n",
       "      <th>price</th>\n",
       "      <th>price_sum</th>\n",
       "      <th>dire</th>\n",
       "      <th>floor</th>\n",
       "      <th>buildtime</th>\n",
       "      <th>advantage</th>\n",
       "      <th>exemption of business tax</th>\n",
       "      <th>exemption of double tax</th>\n",
       "      <th>quality education</th>\n",
       "      <th>distance</th>\n",
       "    </tr>\n",
       "  </thead>\n",
       "  <tbody>\n",
       "    <tr>\n",
       "      <th>0</th>\n",
       "      <td>新高苑</td>\n",
       "      <td>高行</td>\n",
       "      <td>2室2厅</td>\n",
       "      <td>87.81</td>\n",
       "      <td>41567</td>\n",
       "      <td>365.0</td>\n",
       "      <td>南向</td>\n",
       "      <td>低层（共11层）</td>\n",
       "      <td>2008</td>\n",
       "      <td>满二优质教育</td>\n",
       "      <td>1.0</td>\n",
       "      <td>0.0</td>\n",
       "      <td>1.0</td>\n",
       "      <td>NaN</td>\n",
       "    </tr>\n",
       "    <tr>\n",
       "      <th>1</th>\n",
       "      <td>光鸿苑</td>\n",
       "      <td>南码头</td>\n",
       "      <td>3室2厅</td>\n",
       "      <td>137.00</td>\n",
       "      <td>51095</td>\n",
       "      <td>700.0</td>\n",
       "      <td>南北向</td>\n",
       "      <td>高层（共31层）</td>\n",
       "      <td>2001</td>\n",
       "      <td>满五优质教育性价比高业主急售\\r\\n                            ...</td>\n",
       "      <td>0.0</td>\n",
       "      <td>1.0</td>\n",
       "      <td>1.0</td>\n",
       "      <td>680</td>\n",
       "    </tr>\n",
       "    <tr>\n",
       "      <th>2</th>\n",
       "      <td>金都安亭家园</td>\n",
       "      <td>昆山</td>\n",
       "      <td>2室2厅</td>\n",
       "      <td>69.00</td>\n",
       "      <td>10870</td>\n",
       "      <td>75.0</td>\n",
       "      <td>南北向</td>\n",
       "      <td>中层（共11层）</td>\n",
       "      <td>2005</td>\n",
       "      <td>满五优质教育配套成熟小区中心</td>\n",
       "      <td>0.0</td>\n",
       "      <td>1.0</td>\n",
       "      <td>1.0</td>\n",
       "      <td>NaN</td>\n",
       "    </tr>\n",
       "    <tr>\n",
       "      <th>3</th>\n",
       "      <td>太浜巷小区</td>\n",
       "      <td>光新</td>\n",
       "      <td>2室1厅</td>\n",
       "      <td>64.06</td>\n",
       "      <td>60100</td>\n",
       "      <td>385.0</td>\n",
       "      <td>南向</td>\n",
       "      <td>中层（共6层）</td>\n",
       "      <td>1986</td>\n",
       "      <td>满五配套成熟户型佳\\r\\n                                 ...</td>\n",
       "      <td>0.0</td>\n",
       "      <td>1.0</td>\n",
       "      <td>0.0</td>\n",
       "      <td>495</td>\n",
       "    </tr>\n",
       "    <tr>\n",
       "      <th>4</th>\n",
       "      <td>春申五村</td>\n",
       "      <td>春申</td>\n",
       "      <td>2室1厅</td>\n",
       "      <td>58.62</td>\n",
       "      <td>52883</td>\n",
       "      <td>310.0</td>\n",
       "      <td>南向</td>\n",
       "      <td>高层（共6层）</td>\n",
       "      <td>1997</td>\n",
       "      <td>优质教育总价低业主急售\\r\\n                               ...</td>\n",
       "      <td>0.0</td>\n",
       "      <td>0.0</td>\n",
       "      <td>1.0</td>\n",
       "      <td>776</td>\n",
       "    </tr>\n",
       "  </tbody>\n",
       "</table>\n",
       "</div>"
      ],
      "text/plain": [
       "     name  loc  size    area  price  price_sum dire     floor  buildtime  \\\n",
       "0     新高苑   高行  2室2厅   87.81  41567      365.0   南向  低层（共11层）       2008   \n",
       "1     光鸿苑  南码头  3室2厅  137.00  51095      700.0  南北向  高层（共31层）       2001   \n",
       "2  金都安亭家园   昆山  2室2厅   69.00  10870       75.0  南北向  中层（共11层）       2005   \n",
       "3   太浜巷小区   光新  2室1厅   64.06  60100      385.0   南向   中层（共6层）       1986   \n",
       "4    春申五村   春申  2室1厅   58.62  52883      310.0   南向   高层（共6层）       1997   \n",
       "\n",
       "                                           advantage  \\\n",
       "0                                             满二优质教育   \n",
       "1  满五优质教育性价比高业主急售\\r\\n                            ...   \n",
       "2                                     满五优质教育配套成熟小区中心   \n",
       "3  满五配套成熟户型佳\\r\\n                                 ...   \n",
       "4  优质教育总价低业主急售\\r\\n                               ...   \n",
       "\n",
       "   exemption of business tax  exemption of double tax  quality education  \\\n",
       "0                        1.0                      0.0                1.0   \n",
       "1                        0.0                      1.0                1.0   \n",
       "2                        0.0                      1.0                1.0   \n",
       "3                        0.0                      1.0                0.0   \n",
       "4                        0.0                      0.0                1.0   \n",
       "\n",
       "  distance  \n",
       "0      NaN  \n",
       "1      680  \n",
       "2      NaN  \n",
       "3      495  \n",
       "4      776  "
      ]
     },
     "execution_count": 243,
     "metadata": {},
     "output_type": "execute_result"
    }
   ],
   "source": [
    "import jieba\n",
    "for i in range(len(data)):\n",
    "        words=list(jieba.cut(data.loc[i,'advantage']))\n",
    "        if '满二' in words:\n",
    "            data.loc[i,'exemption of business tax']=1\n",
    "        else:\n",
    "            data.loc[i,'exemption of business tax']=0\n",
    "        if '满五' in words:\n",
    "            data.loc[i,'exemption of double tax']=1\n",
    "        else:\n",
    "            data.loc[i,'exemption of double tax']=0\n",
    "        if '教育' in words:\n",
    "            data.loc[i,'quality education']=1\n",
    "        else:\n",
    "            data.loc[i,'quality education']=0\n",
    "data.head()"
   ]
  },
  {
   "cell_type": "code",
   "execution_count": 244,
   "metadata": {},
   "outputs": [
    {
     "data": {
      "text/plain": [
       "['南向', '南北向', '东向', '东西向', '东南向', '西北向', '西向', '西南向', '东北向', '北向']"
      ]
     },
     "execution_count": 244,
     "metadata": {},
     "output_type": "execute_result"
    }
   ],
   "source": [
    "dire_sum=list(data['dire'].unique())\n",
    "dire_sum"
   ]
  },
  {
   "cell_type": "code",
   "execution_count": 245,
   "metadata": {},
   "outputs": [
    {
     "data": {
      "text/html": [
       "<div>\n",
       "<style scoped>\n",
       "    .dataframe tbody tr th:only-of-type {\n",
       "        vertical-align: middle;\n",
       "    }\n",
       "\n",
       "    .dataframe tbody tr th {\n",
       "        vertical-align: top;\n",
       "    }\n",
       "\n",
       "    .dataframe thead th {\n",
       "        text-align: right;\n",
       "    }\n",
       "</style>\n",
       "<table border=\"1\" class=\"dataframe\">\n",
       "  <thead>\n",
       "    <tr style=\"text-align: right;\">\n",
       "      <th></th>\n",
       "      <th>area</th>\n",
       "      <th>buildtime</th>\n",
       "      <th>room_num</th>\n",
       "      <th>hall_num</th>\n",
       "      <th>floor</th>\n",
       "      <th>dire</th>\n",
       "      <th>exemption of business tax</th>\n",
       "      <th>exemption of double tax</th>\n",
       "      <th>quality education</th>\n",
       "    </tr>\n",
       "  </thead>\n",
       "  <tbody>\n",
       "    <tr>\n",
       "      <th>0</th>\n",
       "      <td>87.81</td>\n",
       "      <td>2008</td>\n",
       "      <td>2.0</td>\n",
       "      <td>2.0</td>\n",
       "      <td>1.0</td>\n",
       "      <td>1.0</td>\n",
       "      <td>1.0</td>\n",
       "      <td>0.0</td>\n",
       "      <td>1.0</td>\n",
       "    </tr>\n",
       "    <tr>\n",
       "      <th>1</th>\n",
       "      <td>137.00</td>\n",
       "      <td>2001</td>\n",
       "      <td>3.0</td>\n",
       "      <td>2.0</td>\n",
       "      <td>3.0</td>\n",
       "      <td>2.0</td>\n",
       "      <td>0.0</td>\n",
       "      <td>1.0</td>\n",
       "      <td>1.0</td>\n",
       "    </tr>\n",
       "    <tr>\n",
       "      <th>2</th>\n",
       "      <td>69.00</td>\n",
       "      <td>2005</td>\n",
       "      <td>2.0</td>\n",
       "      <td>2.0</td>\n",
       "      <td>2.0</td>\n",
       "      <td>2.0</td>\n",
       "      <td>0.0</td>\n",
       "      <td>1.0</td>\n",
       "      <td>1.0</td>\n",
       "    </tr>\n",
       "    <tr>\n",
       "      <th>3</th>\n",
       "      <td>64.06</td>\n",
       "      <td>1986</td>\n",
       "      <td>2.0</td>\n",
       "      <td>1.0</td>\n",
       "      <td>2.0</td>\n",
       "      <td>1.0</td>\n",
       "      <td>0.0</td>\n",
       "      <td>1.0</td>\n",
       "      <td>0.0</td>\n",
       "    </tr>\n",
       "    <tr>\n",
       "      <th>4</th>\n",
       "      <td>58.62</td>\n",
       "      <td>1997</td>\n",
       "      <td>2.0</td>\n",
       "      <td>1.0</td>\n",
       "      <td>3.0</td>\n",
       "      <td>1.0</td>\n",
       "      <td>0.0</td>\n",
       "      <td>0.0</td>\n",
       "      <td>1.0</td>\n",
       "    </tr>\n",
       "  </tbody>\n",
       "</table>\n",
       "</div>"
      ],
      "text/plain": [
       "     area  buildtime  room_num  hall_num  floor  dire  \\\n",
       "0   87.81       2008       2.0       2.0    1.0   1.0   \n",
       "1  137.00       2001       3.0       2.0    3.0   2.0   \n",
       "2   69.00       2005       2.0       2.0    2.0   2.0   \n",
       "3   64.06       1986       2.0       1.0    2.0   1.0   \n",
       "4   58.62       1997       2.0       1.0    3.0   1.0   \n",
       "\n",
       "   exemption of business tax  exemption of double tax  quality education  \n",
       "0                        1.0                      0.0                1.0  \n",
       "1                        0.0                      1.0                1.0  \n",
       "2                        0.0                      1.0                1.0  \n",
       "3                        0.0                      1.0                0.0  \n",
       "4                        0.0                      0.0                1.0  "
      ]
     },
     "execution_count": 245,
     "metadata": {},
     "output_type": "execute_result"
    }
   ],
   "source": [
    "new_data=pd.DataFrame()\n",
    "new_data['area']=data['area']\n",
    "new_data['buildtime']=data['buildtime']\n",
    "for i in range(len(data)):\n",
    "        s=re.findall('\\d+',data.loc[i,'size'])\n",
    "        new_data.loc[i,'room_num']=float(s[0])\n",
    "        new_data.loc[i,'hall_num']=float(s[1])\n",
    "        \n",
    "        if '低层' in data.loc[i,'floor']:\n",
    "            new_data.loc[i,'floor']=1\n",
    "        elif '中层' in data.loc[i,'floor']:\n",
    "            new_data.loc[i,'floor']=2\n",
    "        elif '高层' in data.loc[i,'floor']:\n",
    "            new_data.loc[i,'floor']=3\n",
    "        dire=data.loc[i,'dire']\n",
    "        idx=dire_sum.index(dire)+1\n",
    "        new_data.loc[i,'dire']=idx \n",
    "new_data['exemption of business tax']=data['exemption of business tax']\n",
    "new_data['exemption of double tax']=data['exemption of double tax']\n",
    "new_data['quality education']=data['quality education']\n",
    "new_data.head()"
   ]
  },
  {
   "cell_type": "code",
   "execution_count": 246,
   "metadata": {},
   "outputs": [
    {
     "data": {
      "text/html": [
       "<div>\n",
       "<style scoped>\n",
       "    .dataframe tbody tr th:only-of-type {\n",
       "        vertical-align: middle;\n",
       "    }\n",
       "\n",
       "    .dataframe tbody tr th {\n",
       "        vertical-align: top;\n",
       "    }\n",
       "\n",
       "    .dataframe thead th {\n",
       "        text-align: right;\n",
       "    }\n",
       "</style>\n",
       "<table border=\"1\" class=\"dataframe\">\n",
       "  <thead>\n",
       "    <tr style=\"text-align: right;\">\n",
       "      <th></th>\n",
       "      <th>area</th>\n",
       "      <th>buildtime</th>\n",
       "      <th>room_num</th>\n",
       "      <th>hall_num</th>\n",
       "      <th>floor</th>\n",
       "      <th>dire</th>\n",
       "      <th>exemption of business tax</th>\n",
       "      <th>exemption of double tax</th>\n",
       "      <th>quality education</th>\n",
       "      <th>distance</th>\n",
       "    </tr>\n",
       "  </thead>\n",
       "  <tbody>\n",
       "    <tr>\n",
       "      <th>0</th>\n",
       "      <td>87.81</td>\n",
       "      <td>2008</td>\n",
       "      <td>2.0</td>\n",
       "      <td>2.0</td>\n",
       "      <td>1.0</td>\n",
       "      <td>1.0</td>\n",
       "      <td>1.0</td>\n",
       "      <td>0.0</td>\n",
       "      <td>1.0</td>\n",
       "      <td>NaN</td>\n",
       "    </tr>\n",
       "    <tr>\n",
       "      <th>1</th>\n",
       "      <td>137.00</td>\n",
       "      <td>2001</td>\n",
       "      <td>3.0</td>\n",
       "      <td>2.0</td>\n",
       "      <td>3.0</td>\n",
       "      <td>2.0</td>\n",
       "      <td>0.0</td>\n",
       "      <td>1.0</td>\n",
       "      <td>1.0</td>\n",
       "      <td>680</td>\n",
       "    </tr>\n",
       "    <tr>\n",
       "      <th>2</th>\n",
       "      <td>69.00</td>\n",
       "      <td>2005</td>\n",
       "      <td>2.0</td>\n",
       "      <td>2.0</td>\n",
       "      <td>2.0</td>\n",
       "      <td>2.0</td>\n",
       "      <td>0.0</td>\n",
       "      <td>1.0</td>\n",
       "      <td>1.0</td>\n",
       "      <td>NaN</td>\n",
       "    </tr>\n",
       "    <tr>\n",
       "      <th>3</th>\n",
       "      <td>64.06</td>\n",
       "      <td>1986</td>\n",
       "      <td>2.0</td>\n",
       "      <td>1.0</td>\n",
       "      <td>2.0</td>\n",
       "      <td>1.0</td>\n",
       "      <td>0.0</td>\n",
       "      <td>1.0</td>\n",
       "      <td>0.0</td>\n",
       "      <td>495</td>\n",
       "    </tr>\n",
       "    <tr>\n",
       "      <th>4</th>\n",
       "      <td>58.62</td>\n",
       "      <td>1997</td>\n",
       "      <td>2.0</td>\n",
       "      <td>1.0</td>\n",
       "      <td>3.0</td>\n",
       "      <td>1.0</td>\n",
       "      <td>0.0</td>\n",
       "      <td>0.0</td>\n",
       "      <td>1.0</td>\n",
       "      <td>776</td>\n",
       "    </tr>\n",
       "  </tbody>\n",
       "</table>\n",
       "</div>"
      ],
      "text/plain": [
       "     area  buildtime  room_num  hall_num  floor  dire  \\\n",
       "0   87.81       2008       2.0       2.0    1.0   1.0   \n",
       "1  137.00       2001       3.0       2.0    3.0   2.0   \n",
       "2   69.00       2005       2.0       2.0    2.0   2.0   \n",
       "3   64.06       1986       2.0       1.0    2.0   1.0   \n",
       "4   58.62       1997       2.0       1.0    3.0   1.0   \n",
       "\n",
       "   exemption of business tax  exemption of double tax  quality education  \\\n",
       "0                        1.0                      0.0                1.0   \n",
       "1                        0.0                      1.0                1.0   \n",
       "2                        0.0                      1.0                1.0   \n",
       "3                        0.0                      1.0                0.0   \n",
       "4                        0.0                      0.0                1.0   \n",
       "\n",
       "  distance  \n",
       "0      NaN  \n",
       "1      680  \n",
       "2      NaN  \n",
       "3      495  \n",
       "4      776  "
      ]
     },
     "execution_count": 246,
     "metadata": {},
     "output_type": "execute_result"
    }
   ],
   "source": [
    "distance = []\n",
    "station = []\n",
    "for i in range(len(data)):\n",
    "    s=re.findall('\\d+',data.loc[i,'advantage'])#用正则表达式匹配advantage标签\n",
    "    if len(s)==2:\n",
    "        distance.append(s[1])#距离\n",
    "        station.append(s[0])#站线\n",
    "        data.loc[i,'distance']=s[1]\n",
    "new_data['distance'] = data['distance']\n",
    "new_data.head()                    "
   ]
  },
  {
   "cell_type": "code",
   "execution_count": 247,
   "metadata": {},
   "outputs": [
    {
     "data": {
      "text/plain": [
       "2149"
      ]
     },
     "execution_count": 247,
     "metadata": {},
     "output_type": "execute_result"
    }
   ],
   "source": [
    "new_data['distance'].isnull().sum()"
   ]
  },
  {
   "cell_type": "code",
   "execution_count": 248,
   "metadata": {},
   "outputs": [
    {
     "data": {
      "text/html": [
       "<div>\n",
       "<style scoped>\n",
       "    .dataframe tbody tr th:only-of-type {\n",
       "        vertical-align: middle;\n",
       "    }\n",
       "\n",
       "    .dataframe tbody tr th {\n",
       "        vertical-align: top;\n",
       "    }\n",
       "\n",
       "    .dataframe thead th {\n",
       "        text-align: right;\n",
       "    }\n",
       "</style>\n",
       "<table border=\"1\" class=\"dataframe\">\n",
       "  <thead>\n",
       "    <tr style=\"text-align: right;\">\n",
       "      <th></th>\n",
       "      <th>area</th>\n",
       "      <th>buildtime</th>\n",
       "      <th>room_num</th>\n",
       "      <th>hall_num</th>\n",
       "      <th>floor</th>\n",
       "      <th>dire</th>\n",
       "      <th>exemption of business tax</th>\n",
       "      <th>exemption of double tax</th>\n",
       "      <th>quality education</th>\n",
       "      <th>distance</th>\n",
       "    </tr>\n",
       "  </thead>\n",
       "  <tbody>\n",
       "    <tr>\n",
       "      <th>0</th>\n",
       "      <td>87.81</td>\n",
       "      <td>2008</td>\n",
       "      <td>2.0</td>\n",
       "      <td>2.0</td>\n",
       "      <td>1.0</td>\n",
       "      <td>1.0</td>\n",
       "      <td>1.0</td>\n",
       "      <td>0.0</td>\n",
       "      <td>1.0</td>\n",
       "      <td>5000</td>\n",
       "    </tr>\n",
       "    <tr>\n",
       "      <th>1</th>\n",
       "      <td>137.00</td>\n",
       "      <td>2001</td>\n",
       "      <td>3.0</td>\n",
       "      <td>2.0</td>\n",
       "      <td>3.0</td>\n",
       "      <td>2.0</td>\n",
       "      <td>0.0</td>\n",
       "      <td>1.0</td>\n",
       "      <td>1.0</td>\n",
       "      <td>680</td>\n",
       "    </tr>\n",
       "    <tr>\n",
       "      <th>2</th>\n",
       "      <td>69.00</td>\n",
       "      <td>2005</td>\n",
       "      <td>2.0</td>\n",
       "      <td>2.0</td>\n",
       "      <td>2.0</td>\n",
       "      <td>2.0</td>\n",
       "      <td>0.0</td>\n",
       "      <td>1.0</td>\n",
       "      <td>1.0</td>\n",
       "      <td>5000</td>\n",
       "    </tr>\n",
       "    <tr>\n",
       "      <th>3</th>\n",
       "      <td>64.06</td>\n",
       "      <td>1986</td>\n",
       "      <td>2.0</td>\n",
       "      <td>1.0</td>\n",
       "      <td>2.0</td>\n",
       "      <td>1.0</td>\n",
       "      <td>0.0</td>\n",
       "      <td>1.0</td>\n",
       "      <td>0.0</td>\n",
       "      <td>495</td>\n",
       "    </tr>\n",
       "    <tr>\n",
       "      <th>4</th>\n",
       "      <td>58.62</td>\n",
       "      <td>1997</td>\n",
       "      <td>2.0</td>\n",
       "      <td>1.0</td>\n",
       "      <td>3.0</td>\n",
       "      <td>1.0</td>\n",
       "      <td>0.0</td>\n",
       "      <td>0.0</td>\n",
       "      <td>1.0</td>\n",
       "      <td>776</td>\n",
       "    </tr>\n",
       "  </tbody>\n",
       "</table>\n",
       "</div>"
      ],
      "text/plain": [
       "     area  buildtime  room_num  hall_num  floor  dire  \\\n",
       "0   87.81       2008       2.0       2.0    1.0   1.0   \n",
       "1  137.00       2001       3.0       2.0    3.0   2.0   \n",
       "2   69.00       2005       2.0       2.0    2.0   2.0   \n",
       "3   64.06       1986       2.0       1.0    2.0   1.0   \n",
       "4   58.62       1997       2.0       1.0    3.0   1.0   \n",
       "\n",
       "   exemption of business tax  exemption of double tax  quality education  \\\n",
       "0                        1.0                      0.0                1.0   \n",
       "1                        0.0                      1.0                1.0   \n",
       "2                        0.0                      1.0                1.0   \n",
       "3                        0.0                      1.0                0.0   \n",
       "4                        0.0                      0.0                1.0   \n",
       "\n",
       "  distance  \n",
       "0     5000  \n",
       "1      680  \n",
       "2     5000  \n",
       "3      495  \n",
       "4      776  "
      ]
     },
     "execution_count": 248,
     "metadata": {},
     "output_type": "execute_result"
    }
   ],
   "source": [
    "new_data['distance'].fillna(5000,inplace=True)\n",
    "new_data.head()"
   ]
  },
  {
   "cell_type": "code",
   "execution_count": 249,
   "metadata": {},
   "outputs": [
    {
     "data": {
      "text/html": [
       "<div>\n",
       "<style scoped>\n",
       "    .dataframe tbody tr th:only-of-type {\n",
       "        vertical-align: middle;\n",
       "    }\n",
       "\n",
       "    .dataframe tbody tr th {\n",
       "        vertical-align: top;\n",
       "    }\n",
       "\n",
       "    .dataframe thead th {\n",
       "        text-align: right;\n",
       "    }\n",
       "</style>\n",
       "<table border=\"1\" class=\"dataframe\">\n",
       "  <thead>\n",
       "    <tr style=\"text-align: right;\">\n",
       "      <th></th>\n",
       "      <th>name</th>\n",
       "      <th>loc</th>\n",
       "      <th>size</th>\n",
       "      <th>area</th>\n",
       "      <th>price</th>\n",
       "      <th>price_sum</th>\n",
       "      <th>dire</th>\n",
       "      <th>floor</th>\n",
       "      <th>buildtime</th>\n",
       "      <th>advantage</th>\n",
       "      <th>exemption of business tax</th>\n",
       "      <th>exemption of double tax</th>\n",
       "      <th>quality education</th>\n",
       "      <th>distance</th>\n",
       "    </tr>\n",
       "  </thead>\n",
       "  <tbody>\n",
       "    <tr>\n",
       "      <th>0</th>\n",
       "      <td>新高苑</td>\n",
       "      <td>高行</td>\n",
       "      <td>2室2厅</td>\n",
       "      <td>87.81</td>\n",
       "      <td>41567</td>\n",
       "      <td>365.0</td>\n",
       "      <td>南向</td>\n",
       "      <td>低层（共11层）</td>\n",
       "      <td>2008</td>\n",
       "      <td>满二优质教育</td>\n",
       "      <td>1.0</td>\n",
       "      <td>0.0</td>\n",
       "      <td>1.0</td>\n",
       "      <td>NaN</td>\n",
       "    </tr>\n",
       "    <tr>\n",
       "      <th>1</th>\n",
       "      <td>光鸿苑</td>\n",
       "      <td>南码头</td>\n",
       "      <td>3室2厅</td>\n",
       "      <td>137.00</td>\n",
       "      <td>51095</td>\n",
       "      <td>700.0</td>\n",
       "      <td>南北向</td>\n",
       "      <td>高层（共31层）</td>\n",
       "      <td>2001</td>\n",
       "      <td>满五优质教育性价比高业主急售\\r\\n                            ...</td>\n",
       "      <td>0.0</td>\n",
       "      <td>1.0</td>\n",
       "      <td>1.0</td>\n",
       "      <td>680</td>\n",
       "    </tr>\n",
       "    <tr>\n",
       "      <th>2</th>\n",
       "      <td>金都安亭家园</td>\n",
       "      <td>昆山</td>\n",
       "      <td>2室2厅</td>\n",
       "      <td>69.00</td>\n",
       "      <td>10870</td>\n",
       "      <td>75.0</td>\n",
       "      <td>南北向</td>\n",
       "      <td>中层（共11层）</td>\n",
       "      <td>2005</td>\n",
       "      <td>满五优质教育配套成熟小区中心</td>\n",
       "      <td>0.0</td>\n",
       "      <td>1.0</td>\n",
       "      <td>1.0</td>\n",
       "      <td>NaN</td>\n",
       "    </tr>\n",
       "    <tr>\n",
       "      <th>3</th>\n",
       "      <td>太浜巷小区</td>\n",
       "      <td>光新</td>\n",
       "      <td>2室1厅</td>\n",
       "      <td>64.06</td>\n",
       "      <td>60100</td>\n",
       "      <td>385.0</td>\n",
       "      <td>南向</td>\n",
       "      <td>中层（共6层）</td>\n",
       "      <td>1986</td>\n",
       "      <td>满五配套成熟户型佳\\r\\n                                 ...</td>\n",
       "      <td>0.0</td>\n",
       "      <td>1.0</td>\n",
       "      <td>0.0</td>\n",
       "      <td>495</td>\n",
       "    </tr>\n",
       "    <tr>\n",
       "      <th>4</th>\n",
       "      <td>春申五村</td>\n",
       "      <td>春申</td>\n",
       "      <td>2室1厅</td>\n",
       "      <td>58.62</td>\n",
       "      <td>52883</td>\n",
       "      <td>310.0</td>\n",
       "      <td>南向</td>\n",
       "      <td>高层（共6层）</td>\n",
       "      <td>1997</td>\n",
       "      <td>优质教育总价低业主急售\\r\\n                               ...</td>\n",
       "      <td>0.0</td>\n",
       "      <td>0.0</td>\n",
       "      <td>1.0</td>\n",
       "      <td>776</td>\n",
       "    </tr>\n",
       "  </tbody>\n",
       "</table>\n",
       "</div>"
      ],
      "text/plain": [
       "     name  loc  size    area  price  price_sum dire     floor  buildtime  \\\n",
       "0     新高苑   高行  2室2厅   87.81  41567      365.0   南向  低层（共11层）       2008   \n",
       "1     光鸿苑  南码头  3室2厅  137.00  51095      700.0  南北向  高层（共31层）       2001   \n",
       "2  金都安亭家园   昆山  2室2厅   69.00  10870       75.0  南北向  中层（共11层）       2005   \n",
       "3   太浜巷小区   光新  2室1厅   64.06  60100      385.0   南向   中层（共6层）       1986   \n",
       "4    春申五村   春申  2室1厅   58.62  52883      310.0   南向   高层（共6层）       1997   \n",
       "\n",
       "                                           advantage  \\\n",
       "0                                             满二优质教育   \n",
       "1  满五优质教育性价比高业主急售\\r\\n                            ...   \n",
       "2                                     满五优质教育配套成熟小区中心   \n",
       "3  满五配套成熟户型佳\\r\\n                                 ...   \n",
       "4  优质教育总价低业主急售\\r\\n                               ...   \n",
       "\n",
       "   exemption of business tax  exemption of double tax  quality education  \\\n",
       "0                        1.0                      0.0                1.0   \n",
       "1                        0.0                      1.0                1.0   \n",
       "2                        0.0                      1.0                1.0   \n",
       "3                        0.0                      1.0                0.0   \n",
       "4                        0.0                      0.0                1.0   \n",
       "\n",
       "  distance  \n",
       "0      NaN  \n",
       "1      680  \n",
       "2      NaN  \n",
       "3      495  \n",
       "4      776  "
      ]
     },
     "execution_count": 249,
     "metadata": {},
     "output_type": "execute_result"
    }
   ],
   "source": [
    "for i in range(len(data)):\n",
    "    data.loc[i,'loc'] = data['loc'][i].split('-')[0]\n",
    "data.head()"
   ]
  },
  {
   "cell_type": "code",
   "execution_count": 250,
   "metadata": {},
   "outputs": [
    {
     "data": {
      "text/plain": [
       "array(['高行', '南码头', '昆山', '光新', '春申', '塘桥', '嘉兴', '康健', '顾村', '南桥', '曲阳',\n",
       "       '杨行', '新天地', '临平路', '长寿路', '嘉定城区', '天山', '重固', '青浦城区', '华新', '曹杨',\n",
       "       '泗泾', '罗店', '金桥', '陆家嘴', '中原', '北新泾', '曹家渡', '金山新城', '御桥', '黄兴公园',\n",
       "       '徐泾', '浦江', '莘庄', '淞宝', '康桥', '东外滩', '古北', '临港新城', '北蔡', '古美',\n",
       "       '金杨', '惠南', '世博', '华漕', '不夜城', '白鹤', '田林', '张江', '西藏北路', '大宁',\n",
       "       '颛桥', '杨东', '三林', '花木', '江宁路', '马桥', '奉城', '江桥', '嘉定新城', '周浦',\n",
       "       '高境', '万里', '海湾旅游区', '华泾', '松江老城', '江湾镇', '金山其他', '虹桥', '航头', '凉城',\n",
       "       '唐镇', '长征', '共康', '大华', '月浦', '赵巷', '金汇', '联洋', '植物园', '松江新城',\n",
       "       '新江湾城', '新桥', '源深', '上大', '老西门', '淮海中路', '金虹桥', '世纪公园', '金汇镇',\n",
       "       '西郊', '周家嘴路', '静安寺', '长桥', '曹路', '安亭', '大场镇', '长风', '通河', '蓬莱公园',\n",
       "       '松江大学城', '九亭', '彭浦', '徐家汇', '洋泾', '黄浦滨江', '马陆', '共富', '老闵行', '董家渡',\n",
       "       '佘山', '川沙', '五角场', '石化', '淞南', '龙柏', '闸北公园', '控江路', '新场', '静安新城',\n",
       "       '万体馆', '徐汇滨江', '莘闵别墅', '上海南站', '鞍山', '龙华', '七宝', '南翔', '青浦新城',\n",
       "       '西渡', '中山公园', '桃浦', '五里桥', '打浦桥', '真如', '梅陇', '其他', '车墩', '新华路',\n",
       "       '斜土路', '罗阳', '四川北路', '建国西路', '外高桥', '华东理工', '北外滩', '外冈', '南京西路',\n",
       "       '朱家角', '杨浦大桥', '庄行', '鲁迅公园', '中远两湾城', '张庙', '崇明其他', '永和', '甘泉',\n",
       "       '朱泾', '合庆', '吴泾', '丰庄', '奉贤其他', '金山', '武宁', '南门', '柘林', '泥城', '豫园',\n",
       "       '阳城', '衡山路', '航华', '菊园新区', '仙霞', '潍坊', '真光', '镇宁路', '宜川', '碧云',\n",
       "       '罗泾', '海湾', '浦东世博'], dtype=object)"
      ]
     },
     "execution_count": 250,
     "metadata": {},
     "output_type": "execute_result"
    }
   ],
   "source": [
    "data['loc'].unique()"
   ]
  },
  {
   "cell_type": "code",
   "execution_count": 251,
   "metadata": {},
   "outputs": [],
   "source": [
    "loc_num = list(data['loc'].unique())"
   ]
  },
  {
   "cell_type": "code",
   "execution_count": 252,
   "metadata": {},
   "outputs": [
    {
     "data": {
      "text/html": [
       "<div>\n",
       "<style scoped>\n",
       "    .dataframe tbody tr th:only-of-type {\n",
       "        vertical-align: middle;\n",
       "    }\n",
       "\n",
       "    .dataframe tbody tr th {\n",
       "        vertical-align: top;\n",
       "    }\n",
       "\n",
       "    .dataframe thead th {\n",
       "        text-align: right;\n",
       "    }\n",
       "</style>\n",
       "<table border=\"1\" class=\"dataframe\">\n",
       "  <thead>\n",
       "    <tr style=\"text-align: right;\">\n",
       "      <th></th>\n",
       "      <th>area</th>\n",
       "      <th>buildtime</th>\n",
       "      <th>room_num</th>\n",
       "      <th>hall_num</th>\n",
       "      <th>floor</th>\n",
       "      <th>dire</th>\n",
       "      <th>exemption of business tax</th>\n",
       "      <th>exemption of double tax</th>\n",
       "      <th>quality education</th>\n",
       "      <th>distance</th>\n",
       "      <th>loc</th>\n",
       "    </tr>\n",
       "  </thead>\n",
       "  <tbody>\n",
       "    <tr>\n",
       "      <th>0</th>\n",
       "      <td>87.81</td>\n",
       "      <td>2008</td>\n",
       "      <td>2.0</td>\n",
       "      <td>2.0</td>\n",
       "      <td>1.0</td>\n",
       "      <td>1.0</td>\n",
       "      <td>1.0</td>\n",
       "      <td>0.0</td>\n",
       "      <td>1.0</td>\n",
       "      <td>5000</td>\n",
       "      <td>1.0</td>\n",
       "    </tr>\n",
       "    <tr>\n",
       "      <th>1</th>\n",
       "      <td>137.00</td>\n",
       "      <td>2001</td>\n",
       "      <td>3.0</td>\n",
       "      <td>2.0</td>\n",
       "      <td>3.0</td>\n",
       "      <td>2.0</td>\n",
       "      <td>0.0</td>\n",
       "      <td>1.0</td>\n",
       "      <td>1.0</td>\n",
       "      <td>680</td>\n",
       "      <td>2.0</td>\n",
       "    </tr>\n",
       "    <tr>\n",
       "      <th>2</th>\n",
       "      <td>69.00</td>\n",
       "      <td>2005</td>\n",
       "      <td>2.0</td>\n",
       "      <td>2.0</td>\n",
       "      <td>2.0</td>\n",
       "      <td>2.0</td>\n",
       "      <td>0.0</td>\n",
       "      <td>1.0</td>\n",
       "      <td>1.0</td>\n",
       "      <td>5000</td>\n",
       "      <td>3.0</td>\n",
       "    </tr>\n",
       "    <tr>\n",
       "      <th>3</th>\n",
       "      <td>64.06</td>\n",
       "      <td>1986</td>\n",
       "      <td>2.0</td>\n",
       "      <td>1.0</td>\n",
       "      <td>2.0</td>\n",
       "      <td>1.0</td>\n",
       "      <td>0.0</td>\n",
       "      <td>1.0</td>\n",
       "      <td>0.0</td>\n",
       "      <td>495</td>\n",
       "      <td>4.0</td>\n",
       "    </tr>\n",
       "    <tr>\n",
       "      <th>4</th>\n",
       "      <td>58.62</td>\n",
       "      <td>1997</td>\n",
       "      <td>2.0</td>\n",
       "      <td>1.0</td>\n",
       "      <td>3.0</td>\n",
       "      <td>1.0</td>\n",
       "      <td>0.0</td>\n",
       "      <td>0.0</td>\n",
       "      <td>1.0</td>\n",
       "      <td>776</td>\n",
       "      <td>5.0</td>\n",
       "    </tr>\n",
       "    <tr>\n",
       "      <th>5</th>\n",
       "      <td>77.24</td>\n",
       "      <td>1994</td>\n",
       "      <td>2.0</td>\n",
       "      <td>1.0</td>\n",
       "      <td>2.0</td>\n",
       "      <td>1.0</td>\n",
       "      <td>0.0</td>\n",
       "      <td>1.0</td>\n",
       "      <td>0.0</td>\n",
       "      <td>210</td>\n",
       "      <td>6.0</td>\n",
       "    </tr>\n",
       "    <tr>\n",
       "      <th>6</th>\n",
       "      <td>64.00</td>\n",
       "      <td>2013</td>\n",
       "      <td>2.0</td>\n",
       "      <td>2.0</td>\n",
       "      <td>3.0</td>\n",
       "      <td>1.0</td>\n",
       "      <td>1.0</td>\n",
       "      <td>0.0</td>\n",
       "      <td>1.0</td>\n",
       "      <td>5000</td>\n",
       "      <td>3.0</td>\n",
       "    </tr>\n",
       "    <tr>\n",
       "      <th>7</th>\n",
       "      <td>150.50</td>\n",
       "      <td>2003</td>\n",
       "      <td>3.0</td>\n",
       "      <td>2.0</td>\n",
       "      <td>2.0</td>\n",
       "      <td>2.0</td>\n",
       "      <td>0.0</td>\n",
       "      <td>1.0</td>\n",
       "      <td>1.0</td>\n",
       "      <td>381</td>\n",
       "      <td>6.0</td>\n",
       "    </tr>\n",
       "    <tr>\n",
       "      <th>8</th>\n",
       "      <td>67.00</td>\n",
       "      <td>2016</td>\n",
       "      <td>2.0</td>\n",
       "      <td>2.0</td>\n",
       "      <td>2.0</td>\n",
       "      <td>1.0</td>\n",
       "      <td>1.0</td>\n",
       "      <td>0.0</td>\n",
       "      <td>0.0</td>\n",
       "      <td>5000</td>\n",
       "      <td>7.0</td>\n",
       "    </tr>\n",
       "    <tr>\n",
       "      <th>9</th>\n",
       "      <td>233.01</td>\n",
       "      <td>2000</td>\n",
       "      <td>5.0</td>\n",
       "      <td>1.0</td>\n",
       "      <td>3.0</td>\n",
       "      <td>2.0</td>\n",
       "      <td>0.0</td>\n",
       "      <td>1.0</td>\n",
       "      <td>1.0</td>\n",
       "      <td>357</td>\n",
       "      <td>6.0</td>\n",
       "    </tr>\n",
       "    <tr>\n",
       "      <th>10</th>\n",
       "      <td>68.03</td>\n",
       "      <td>1991</td>\n",
       "      <td>2.0</td>\n",
       "      <td>1.0</td>\n",
       "      <td>1.0</td>\n",
       "      <td>1.0</td>\n",
       "      <td>0.0</td>\n",
       "      <td>1.0</td>\n",
       "      <td>1.0</td>\n",
       "      <td>1062</td>\n",
       "      <td>8.0</td>\n",
       "    </tr>\n",
       "    <tr>\n",
       "      <th>11</th>\n",
       "      <td>63.00</td>\n",
       "      <td>2017</td>\n",
       "      <td>2.0</td>\n",
       "      <td>2.0</td>\n",
       "      <td>2.0</td>\n",
       "      <td>1.0</td>\n",
       "      <td>1.0</td>\n",
       "      <td>0.0</td>\n",
       "      <td>0.0</td>\n",
       "      <td>5000</td>\n",
       "      <td>3.0</td>\n",
       "    </tr>\n",
       "    <tr>\n",
       "      <th>12</th>\n",
       "      <td>73.98</td>\n",
       "      <td>1990</td>\n",
       "      <td>2.0</td>\n",
       "      <td>2.0</td>\n",
       "      <td>2.0</td>\n",
       "      <td>1.0</td>\n",
       "      <td>0.0</td>\n",
       "      <td>1.0</td>\n",
       "      <td>1.0</td>\n",
       "      <td>1062</td>\n",
       "      <td>8.0</td>\n",
       "    </tr>\n",
       "    <tr>\n",
       "      <th>13</th>\n",
       "      <td>70.00</td>\n",
       "      <td>2013</td>\n",
       "      <td>2.0</td>\n",
       "      <td>2.0</td>\n",
       "      <td>3.0</td>\n",
       "      <td>2.0</td>\n",
       "      <td>0.0</td>\n",
       "      <td>1.0</td>\n",
       "      <td>0.0</td>\n",
       "      <td>5000</td>\n",
       "      <td>3.0</td>\n",
       "    </tr>\n",
       "    <tr>\n",
       "      <th>14</th>\n",
       "      <td>72.00</td>\n",
       "      <td>2016</td>\n",
       "      <td>2.0</td>\n",
       "      <td>2.0</td>\n",
       "      <td>2.0</td>\n",
       "      <td>2.0</td>\n",
       "      <td>1.0</td>\n",
       "      <td>0.0</td>\n",
       "      <td>1.0</td>\n",
       "      <td>5000</td>\n",
       "      <td>3.0</td>\n",
       "    </tr>\n",
       "    <tr>\n",
       "      <th>15</th>\n",
       "      <td>61.64</td>\n",
       "      <td>1997</td>\n",
       "      <td>2.0</td>\n",
       "      <td>1.0</td>\n",
       "      <td>2.0</td>\n",
       "      <td>1.0</td>\n",
       "      <td>0.0</td>\n",
       "      <td>0.0</td>\n",
       "      <td>1.0</td>\n",
       "      <td>776</td>\n",
       "      <td>5.0</td>\n",
       "    </tr>\n",
       "    <tr>\n",
       "      <th>16</th>\n",
       "      <td>33.59</td>\n",
       "      <td>1974</td>\n",
       "      <td>1.0</td>\n",
       "      <td>1.0</td>\n",
       "      <td>2.0</td>\n",
       "      <td>1.0</td>\n",
       "      <td>0.0</td>\n",
       "      <td>1.0</td>\n",
       "      <td>0.0</td>\n",
       "      <td>346</td>\n",
       "      <td>6.0</td>\n",
       "    </tr>\n",
       "    <tr>\n",
       "      <th>17</th>\n",
       "      <td>65.00</td>\n",
       "      <td>2016</td>\n",
       "      <td>2.0</td>\n",
       "      <td>2.0</td>\n",
       "      <td>3.0</td>\n",
       "      <td>2.0</td>\n",
       "      <td>0.0</td>\n",
       "      <td>1.0</td>\n",
       "      <td>1.0</td>\n",
       "      <td>5000</td>\n",
       "      <td>3.0</td>\n",
       "    </tr>\n",
       "    <tr>\n",
       "      <th>18</th>\n",
       "      <td>89.00</td>\n",
       "      <td>2016</td>\n",
       "      <td>3.0</td>\n",
       "      <td>2.0</td>\n",
       "      <td>2.0</td>\n",
       "      <td>2.0</td>\n",
       "      <td>1.0</td>\n",
       "      <td>0.0</td>\n",
       "      <td>1.0</td>\n",
       "      <td>5000</td>\n",
       "      <td>3.0</td>\n",
       "    </tr>\n",
       "    <tr>\n",
       "      <th>19</th>\n",
       "      <td>72.00</td>\n",
       "      <td>2015</td>\n",
       "      <td>2.0</td>\n",
       "      <td>2.0</td>\n",
       "      <td>2.0</td>\n",
       "      <td>2.0</td>\n",
       "      <td>1.0</td>\n",
       "      <td>0.0</td>\n",
       "      <td>1.0</td>\n",
       "      <td>5000</td>\n",
       "      <td>3.0</td>\n",
       "    </tr>\n",
       "  </tbody>\n",
       "</table>\n",
       "</div>"
      ],
      "text/plain": [
       "      area  buildtime  room_num  hall_num  floor  dire  \\\n",
       "0    87.81       2008       2.0       2.0    1.0   1.0   \n",
       "1   137.00       2001       3.0       2.0    3.0   2.0   \n",
       "2    69.00       2005       2.0       2.0    2.0   2.0   \n",
       "3    64.06       1986       2.0       1.0    2.0   1.0   \n",
       "4    58.62       1997       2.0       1.0    3.0   1.0   \n",
       "5    77.24       1994       2.0       1.0    2.0   1.0   \n",
       "6    64.00       2013       2.0       2.0    3.0   1.0   \n",
       "7   150.50       2003       3.0       2.0    2.0   2.0   \n",
       "8    67.00       2016       2.0       2.0    2.0   1.0   \n",
       "9   233.01       2000       5.0       1.0    3.0   2.0   \n",
       "10   68.03       1991       2.0       1.0    1.0   1.0   \n",
       "11   63.00       2017       2.0       2.0    2.0   1.0   \n",
       "12   73.98       1990       2.0       2.0    2.0   1.0   \n",
       "13   70.00       2013       2.0       2.0    3.0   2.0   \n",
       "14   72.00       2016       2.0       2.0    2.0   2.0   \n",
       "15   61.64       1997       2.0       1.0    2.0   1.0   \n",
       "16   33.59       1974       1.0       1.0    2.0   1.0   \n",
       "17   65.00       2016       2.0       2.0    3.0   2.0   \n",
       "18   89.00       2016       3.0       2.0    2.0   2.0   \n",
       "19   72.00       2015       2.0       2.0    2.0   2.0   \n",
       "\n",
       "    exemption of business tax  exemption of double tax  quality education  \\\n",
       "0                         1.0                      0.0                1.0   \n",
       "1                         0.0                      1.0                1.0   \n",
       "2                         0.0                      1.0                1.0   \n",
       "3                         0.0                      1.0                0.0   \n",
       "4                         0.0                      0.0                1.0   \n",
       "5                         0.0                      1.0                0.0   \n",
       "6                         1.0                      0.0                1.0   \n",
       "7                         0.0                      1.0                1.0   \n",
       "8                         1.0                      0.0                0.0   \n",
       "9                         0.0                      1.0                1.0   \n",
       "10                        0.0                      1.0                1.0   \n",
       "11                        1.0                      0.0                0.0   \n",
       "12                        0.0                      1.0                1.0   \n",
       "13                        0.0                      1.0                0.0   \n",
       "14                        1.0                      0.0                1.0   \n",
       "15                        0.0                      0.0                1.0   \n",
       "16                        0.0                      1.0                0.0   \n",
       "17                        0.0                      1.0                1.0   \n",
       "18                        1.0                      0.0                1.0   \n",
       "19                        1.0                      0.0                1.0   \n",
       "\n",
       "   distance  loc  \n",
       "0      5000  1.0  \n",
       "1       680  2.0  \n",
       "2      5000  3.0  \n",
       "3       495  4.0  \n",
       "4       776  5.0  \n",
       "5       210  6.0  \n",
       "6      5000  3.0  \n",
       "7       381  6.0  \n",
       "8      5000  7.0  \n",
       "9       357  6.0  \n",
       "10     1062  8.0  \n",
       "11     5000  3.0  \n",
       "12     1062  8.0  \n",
       "13     5000  3.0  \n",
       "14     5000  3.0  \n",
       "15      776  5.0  \n",
       "16      346  6.0  \n",
       "17     5000  3.0  \n",
       "18     5000  3.0  \n",
       "19     5000  3.0  "
      ]
     },
     "execution_count": 252,
     "metadata": {},
     "output_type": "execute_result"
    }
   ],
   "source": [
    "for i in range(len(data)):\n",
    "    loc = data.loc[i,'loc']\n",
    "    ldx = loc_num.index(loc)+1\n",
    "    new_data.loc[i,'loc']=ldx\n",
    "new_data.head(20)"
   ]
  },
  {
   "cell_type": "code",
   "execution_count": 254,
   "metadata": {},
   "outputs": [],
   "source": [
    "new_data.to_csv('./data/new_data.csv')"
   ]
  },
  {
   "cell_type": "code",
   "execution_count": 255,
   "metadata": {},
   "outputs": [
    {
     "data": {
      "text/plain": [
       "area                         0\n",
       "buildtime                    0\n",
       "room_num                     0\n",
       "hall_num                     0\n",
       "floor                        0\n",
       "dire                         0\n",
       "exemption of business tax    0\n",
       "exemption of double tax      0\n",
       "quality education            0\n",
       "distance                     0\n",
       "loc                          0\n",
       "dtype: int64"
      ]
     },
     "execution_count": 255,
     "metadata": {},
     "output_type": "execute_result"
    }
   ],
   "source": [
    "new_data.isnull().sum()"
   ]
  },
  {
   "cell_type": "code",
   "execution_count": 256,
   "metadata": {},
   "outputs": [
    {
     "data": {
      "text/html": [
       "<div>\n",
       "<style scoped>\n",
       "    .dataframe tbody tr th:only-of-type {\n",
       "        vertical-align: middle;\n",
       "    }\n",
       "\n",
       "    .dataframe tbody tr th {\n",
       "        vertical-align: top;\n",
       "    }\n",
       "\n",
       "    .dataframe thead th {\n",
       "        text-align: right;\n",
       "    }\n",
       "</style>\n",
       "<table border=\"1\" class=\"dataframe\">\n",
       "  <thead>\n",
       "    <tr style=\"text-align: right;\">\n",
       "      <th></th>\n",
       "      <th>area</th>\n",
       "      <th>buildtime</th>\n",
       "      <th>room_num</th>\n",
       "      <th>hall_num</th>\n",
       "      <th>floor</th>\n",
       "      <th>dire</th>\n",
       "      <th>exemption of business tax</th>\n",
       "      <th>exemption of double tax</th>\n",
       "      <th>quality education</th>\n",
       "      <th>distance</th>\n",
       "      <th>loc</th>\n",
       "      <th>price</th>\n",
       "    </tr>\n",
       "  </thead>\n",
       "  <tbody>\n",
       "    <tr>\n",
       "      <th>0</th>\n",
       "      <td>87.81</td>\n",
       "      <td>2008</td>\n",
       "      <td>2.0</td>\n",
       "      <td>2.0</td>\n",
       "      <td>1.0</td>\n",
       "      <td>1.0</td>\n",
       "      <td>1.0</td>\n",
       "      <td>0.0</td>\n",
       "      <td>1.0</td>\n",
       "      <td>5000</td>\n",
       "      <td>1.0</td>\n",
       "      <td>41567</td>\n",
       "    </tr>\n",
       "    <tr>\n",
       "      <th>1</th>\n",
       "      <td>137.00</td>\n",
       "      <td>2001</td>\n",
       "      <td>3.0</td>\n",
       "      <td>2.0</td>\n",
       "      <td>3.0</td>\n",
       "      <td>2.0</td>\n",
       "      <td>0.0</td>\n",
       "      <td>1.0</td>\n",
       "      <td>1.0</td>\n",
       "      <td>680</td>\n",
       "      <td>2.0</td>\n",
       "      <td>51095</td>\n",
       "    </tr>\n",
       "    <tr>\n",
       "      <th>2</th>\n",
       "      <td>69.00</td>\n",
       "      <td>2005</td>\n",
       "      <td>2.0</td>\n",
       "      <td>2.0</td>\n",
       "      <td>2.0</td>\n",
       "      <td>2.0</td>\n",
       "      <td>0.0</td>\n",
       "      <td>1.0</td>\n",
       "      <td>1.0</td>\n",
       "      <td>5000</td>\n",
       "      <td>3.0</td>\n",
       "      <td>10870</td>\n",
       "    </tr>\n",
       "    <tr>\n",
       "      <th>3</th>\n",
       "      <td>64.06</td>\n",
       "      <td>1986</td>\n",
       "      <td>2.0</td>\n",
       "      <td>1.0</td>\n",
       "      <td>2.0</td>\n",
       "      <td>1.0</td>\n",
       "      <td>0.0</td>\n",
       "      <td>1.0</td>\n",
       "      <td>0.0</td>\n",
       "      <td>495</td>\n",
       "      <td>4.0</td>\n",
       "      <td>60100</td>\n",
       "    </tr>\n",
       "    <tr>\n",
       "      <th>4</th>\n",
       "      <td>58.62</td>\n",
       "      <td>1997</td>\n",
       "      <td>2.0</td>\n",
       "      <td>1.0</td>\n",
       "      <td>3.0</td>\n",
       "      <td>1.0</td>\n",
       "      <td>0.0</td>\n",
       "      <td>0.0</td>\n",
       "      <td>1.0</td>\n",
       "      <td>776</td>\n",
       "      <td>5.0</td>\n",
       "      <td>52883</td>\n",
       "    </tr>\n",
       "  </tbody>\n",
       "</table>\n",
       "</div>"
      ],
      "text/plain": [
       "     area  buildtime  room_num  hall_num  floor  dire  \\\n",
       "0   87.81       2008       2.0       2.0    1.0   1.0   \n",
       "1  137.00       2001       3.0       2.0    3.0   2.0   \n",
       "2   69.00       2005       2.0       2.0    2.0   2.0   \n",
       "3   64.06       1986       2.0       1.0    2.0   1.0   \n",
       "4   58.62       1997       2.0       1.0    3.0   1.0   \n",
       "\n",
       "   exemption of business tax  exemption of double tax  quality education  \\\n",
       "0                        1.0                      0.0                1.0   \n",
       "1                        0.0                      1.0                1.0   \n",
       "2                        0.0                      1.0                1.0   \n",
       "3                        0.0                      1.0                0.0   \n",
       "4                        0.0                      0.0                1.0   \n",
       "\n",
       "  distance  loc  price  \n",
       "0     5000  1.0  41567  \n",
       "1      680  2.0  51095  \n",
       "2     5000  3.0  10870  \n",
       "3      495  4.0  60100  \n",
       "4      776  5.0  52883  "
      ]
     },
     "execution_count": 256,
     "metadata": {},
     "output_type": "execute_result"
    }
   ],
   "source": [
    "new_data['price'] = data['price']\n",
    "new_data.head()"
   ]
  },
  {
   "cell_type": "code",
   "execution_count": 257,
   "metadata": {},
   "outputs": [],
   "source": [
    "new_data.to_csv('./data/data1.csv')"
   ]
  },
  {
   "cell_type": "code",
   "execution_count": 269,
   "metadata": {},
   "outputs": [
    {
     "name": "stdout",
     "output_type": "stream",
     "text": [
      "LinearRegression模型的R方得分为： 0.5687373525630215\n"
     ]
    },
    {
     "data": {
      "text/plain": [
       "Text(0.5, 1.0, '线性回归预测结果')"
      ]
     },
     "execution_count": 269,
     "metadata": {},
     "output_type": "execute_result"
    },
    {
     "data": {
      "image/png": "[encoded data removed]",
      "text/plain": [
       "<Figure size 1080x360 with 1 Axes>"
      ]
     },
     "metadata": {
      "needs_background": "light"
     },
     "output_type": "display_data"
    }
   ],
   "source": [
    "X = new_data.drop([\"price\"], axis=1)\n",
    "y = new_data['price']\n",
    "from sklearn.model_selection import train_test_split\n",
    "x_train, x_test, y_train, y_test = train_test_split(X, y, random_state=0, test_size=0.25)\n",
    "#数据标准化处理 归一化\n",
    "from sklearn.preprocessing import StandardScaler\n",
    "ss_x = StandardScaler()\n",
    "x_train = ss_x.fit_transform(x_train)\n",
    "x_test = ss_x.fit_transform(x_test)\n",
    "from sklearn.linear_model import LinearRegression\n",
    "lr = LinearRegression()     #初始化\n",
    "lr.fit(x_train, y_train)    #训练数据\n",
    "lr_y_predict = lr.predict(x_test)   #回归预测\n",
    "#性能测评：使用R方得分指标对模型预测结果进行评价\n",
    "from sklearn.metrics import  r2_score\n",
    "print(\"LinearRegression模型的R方得分为：\", r2_score(y_test, lr_y_predict))\n",
    "\n",
    "plt.figure(figsize=(15, 5))\n",
    "plt.plot(y_test.values[:100], \"-r\", label=\"真实值\")\n",
    "plt.plot(lr_y_predict[:100], \"-g\", label=\"预测值\")\n",
    "plt.legend()\n",
    "plt.title(\"线性回归预测结果\")"
   ]
  },
  {
   "cell_type": "code",
   "execution_count": 296,
   "metadata": {},
   "outputs": [
    {
     "data": {
      "text/plain": [
       "GridSearchCV(cv=None, error_score=nan,\n",
       "             estimator=KNeighborsRegressor(algorithm='auto', leaf_size=30,\n",
       "                                           metric='minkowski',\n",
       "                                           metric_params=None, n_jobs=None,\n",
       "                                           n_neighbors=5, p=2,\n",
       "                                           weights='uniform'),\n",
       "             iid='deprecated', n_jobs=None,\n",
       "             param_grid=[{'n_neighbors': [1, 2, 3, 4, 5, 6, 7, 8, 9, 10, 11],\n",
       "                          'weights': ['uniform']},\n",
       "                         {'n_neighbors': [1, 2, 3, 4, 5, 6, 7, 8, 9, 10, 11],\n",
       "                          'p': [1, 2, 3, 4, 5], 'weights': ['distance']}],\n",
       "             pre_dispatch='2*n_jobs', refit=True, return_train_score=False,\n",
       "             scoring=None, verbose=0)"
      ]
     },
     "execution_count": 296,
     "metadata": {},
     "output_type": "execute_result"
    }
   ],
   "source": [
    "param_grid = [\n",
    "    {\n",
    "        'weights':['uniform'],\n",
    "        'n_neighbors':[i for i in range(1,12)]\n",
    "        \n",
    "    },\n",
    "    {\n",
    "        'weights':['distance'],\n",
    "        'n_neighbors':[i for i in range(1,12)],\n",
    "        'p':[i for i in range(1,6)]\n",
    "    }\n",
    "]\n",
    "from sklearn.neighbors import KNeighborsRegressor\n",
    "knnrgr = KNeighborsRegressor()\n",
    "from sklearn.model_selection import GridSearchCV\n",
    "grid_search = GridSearchCV(knnrgr,param_grid)\n",
    "grid_search.fit(x_train,y_train)"
   ]
  },
  {
   "cell_type": "code",
   "execution_count": 271,
   "metadata": {},
   "outputs": [
    {
     "data": {
      "text/plain": [
       "{'n_neighbors': 9, 'p': 1, 'weights': 'distance'}"
      ]
     },
     "execution_count": 271,
     "metadata": {},
     "output_type": "execute_result"
    }
   ],
   "source": [
    "grid_search.best_params_"
   ]
  },
  {
   "cell_type": "code",
   "execution_count": 297,
   "metadata": {},
   "outputs": [
    {
     "data": {
      "text/plain": [
       "0.6673636627832303"
      ]
     },
     "execution_count": 297,
     "metadata": {},
     "output_type": "execute_result"
    }
   ],
   "source": [
    "grid_search.best_score_"
   ]
  },
  {
   "cell_type": "code",
   "execution_count": 298,
   "metadata": {},
   "outputs": [
    {
     "data": {
      "text/plain": [
       "Text(0.5, 1.0, 'k近邻预测结果')"
      ]
     },
     "execution_count": 298,
     "metadata": {},
     "output_type": "execute_result"
    },
    {
     "data": {
      "image/png": "[encoded data removed]",
      "text/plain": [
       "<Figure size 1080x360 with 1 Axes>"
      ]
     },
     "metadata": {
      "needs_background": "light"
     },
     "output_type": "display_data"
    }
   ],
   "source": [
    "y_predict = grid_search.predict(x_test)\n",
    "plt.figure(figsize=(15, 5))\n",
    "plt.plot(y_test.values[100:200], \"-r\", label=\"真实值\")\n",
    "plt.plot(y_predict[100:200], \"-g\", label=\"预测值\")\n",
    "plt.legend()\n",
    "plt.title(\"k近邻预测结果\")"
   ]
  },
  {
   "cell_type": "code",
   "execution_count": 294,
   "metadata": {},
   "outputs": [
    {
     "name": "stdout",
     "output_type": "stream",
     "text": [
      "0.6542756744005986\n"
     ]
    },
    {
     "data": {
      "text/plain": [
       "Text(0.5, 1.0, 'k近邻预测结果')"
      ]
     },
     "execution_count": 294,
     "metadata": {},
     "output_type": "execute_result"
    },
    {
     "data": {
      "image/png": "[encoded data removed]",
      "text/plain": [
       "<Figure size 1080x360 with 1 Axes>"
      ]
     },
     "metadata": {
      "needs_background": "light"
     },
     "output_type": "display_data"
    }
   ],
   "source": [
    "knnrgr = KNeighborsRegressor(n_neighbors=9,weights='distance',p=1)\n",
    "knnrgr.fit(x_train,y_train)\n",
    "print(knnrgr.score(x_test,y_test))\n",
    "y_predict = knnrgr.predict(x_test)\n",
    "plt.figure(figsize=(15, 5))\n",
    "plt.plot(y_test.values[100:200], \"-r\", label=\"真实值\")\n",
    "plt.plot(y_predict[100:200], \"-g\", label=\"预测值\")\n",
    "plt.legend()\n",
    "plt.title(\"k近邻预测结果\")"
   ]
  },
  {
   "cell_type": "code",
   "execution_count": 274,
   "metadata": {},
   "outputs": [
    {
     "name": "stdout",
     "output_type": "stream",
     "text": [
      "邻回归: 0.568766, 439421938.4655\n",
      "Lasso回归: 0.568737, 439451108.5348\n",
      "随机森林: 0.776423, 227821975.8825\n",
      "梯度提升树: 0.712723, 292731434.8000\n",
      "支持向量机: -0.061500, 1081654785.6822\n",
      "弹性网络: 0.568797, 439390565.8432\n",
      "梯度下降回归: 0.570275, 437884135.5191\n",
      "贝叶斯线性回归: 0.568890, 439295561.0300\n",
      "L2正则线性回归: 0.645165, 361572401.9905\n",
      "极端随机森林回归: 0.789686, 214307220.5605\n",
      "Xgboost回归: 0.717704, 287655597.7741\n"
     ]
    }
   ],
   "source": [
    "from sklearn.linear_model import ElasticNet,Lasso,BayesianRidge,Ridge,SGDRegressor\n",
    "from sklearn.ensemble import RandomForestRegressor,GradientBoostingRegressor,ExtraTreesRegressor\n",
    "from sklearn.kernel_ridge import KernelRidge\n",
    "from xgboost import XGBRegressor\n",
    "from sklearn.svm import SVR\n",
    "from sklearn.metrics import mean_squared_error\n",
    "models = [Ridge(),Lasso(alpha=0.01,max_iter=10000),RandomForestRegressor(),\n",
    "GradientBoostingRegressor(),SVR(),ElasticNet(alpha=0.001,max_iter=10000),\n",
    "SGDRegressor(max_iter=1000,tol=1e-3),BayesianRidge(),KernelRidge(alpha=0.6, kernel='polynomial', degree=2, coef0=2.5),ExtraTreesRegressor(),\n",
    "XGBRegressor(max_depth=5, learning_rate=0.1, n_estimators=160, silent=False, objective='reg:gamma')]\n",
    "names = [ \"邻回归\", \"Lasso回归\", \"随机森林\", \"梯度提升树\", \"支持向量机\" , \"弹性网络\",\"梯度下降回归\",\"贝叶斯线性回归\",\"L2正则线性回归\",\"极端随机森林回归\",\"Xgboost回归\"]\n",
    "for name, model in zip(names, models):\n",
    "    model.fit(x_train,y_train)\n",
    "    predicted= model.predict(x_test)\n",
    "    print(\"{}: {:.6f}, {:.4f}\".format(name,model.score(x_test,y_test),mean_squared_error(y_test, predicted)))"
   ]
  },
  {
   "cell_type": "code",
   "execution_count": 275,
   "metadata": {},
   "outputs": [
    {
     "name": "stdout",
     "output_type": "stream",
     "text": [
      "{'alpha': 0.0009, 'max_iter': 10000} 0.5613328036994616\n",
      "                                 params  mean_test_score  std_test_score\n",
      "0  {'alpha': 0.0004, 'max_iter': 10000}         0.561333          0.0409\n",
      "1  {'alpha': 0.0005, 'max_iter': 10000}         0.561333          0.0409\n",
      "2  {'alpha': 0.0007, 'max_iter': 10000}         0.561333          0.0409\n",
      "3  {'alpha': 0.0006, 'max_iter': 10000}         0.561333          0.0409\n",
      "4  {'alpha': 0.0009, 'max_iter': 10000}         0.561333          0.0409\n",
      "5  {'alpha': 0.0008, 'max_iter': 10000}         0.561333          0.0409\n"
     ]
    }
   ],
   "source": [
    "class grid():\n",
    "    def __init__(self,model):\n",
    "        self.model = model\n",
    "    \n",
    "    def grid_get(self,X,y,param_grid):\n",
    "        grid_search = GridSearchCV(self.model,param_grid,cv=5,n_jobs=-1)\n",
    "        grid_search.fit(X,y)\n",
    "        print(grid_search.best_params_, grid_search.best_score_)\n",
    "        print(pd.DataFrame(grid_search.cv_results_)[['params','mean_test_score','std_test_score']])\n",
    "grid(Lasso()).grid_get(x_train,y_train,{'alpha': [0.0004,0.0005,0.0007,0.0006,0.0009,0.0008],'max_iter':[10000]})"
   ]
  },
  {
   "cell_type": "code",
   "execution_count": 276,
   "metadata": {},
   "outputs": [
    {
     "name": "stdout",
     "output_type": "stream",
     "text": [
      "{'alpha': 35} 0.5611491635426574\n",
      "          params  mean_test_score  std_test_score\n",
      "0  {'alpha': 35}         0.561149        0.040529\n",
      "1  {'alpha': 40}         0.561081        0.040479\n",
      "2  {'alpha': 45}         0.561002        0.040428\n",
      "3  {'alpha': 50}         0.560915        0.040378\n",
      "4  {'alpha': 55}         0.560819        0.040329\n",
      "5  {'alpha': 60}         0.560714        0.040280\n",
      "6  {'alpha': 65}         0.560601        0.040231\n",
      "7  {'alpha': 70}         0.560480        0.040183\n",
      "8  {'alpha': 80}         0.560216        0.040087\n",
      "9  {'alpha': 90}         0.559922        0.039993\n"
     ]
    }
   ],
   "source": [
    "grid(Ridge()).grid_get(x_train,y_train,{'alpha':[35,40,45,50,55,60,65,70,80,90]})"
   ]
  },
  {
   "cell_type": "code",
   "execution_count": 285,
   "metadata": {},
   "outputs": [
    {
     "data": {
      "text/plain": [
       "array([0.58865235, 0.65641028, 0.5752435 , 0.66891138, 0.60180198])"
      ]
     },
     "execution_count": 285,
     "metadata": {},
     "output_type": "execute_result"
    }
   ],
   "source": [
    "from sklearn.base import BaseEstimator,TransformerMixin,RegressorMixin,clone\n",
    "from sklearn.model_selection import KFold,cross_val_score,train_test_split\n",
    "def r2(model,X,y):\n",
    "    return cross_val_score(model, X, y, scoring=\"r2\", cv=5)\n",
    "\n",
    "\n",
    "class AverageWeight(BaseEstimator, RegressorMixin):\n",
    "    def __init__(self,mod,weight):\n",
    "        self.mod = mod\n",
    "        self.weight = weight\n",
    "        \n",
    "    def fit(self,X,y):\n",
    "        self.models_ = [clone(x) for x in self.mod]\n",
    "        for model in self.models_:\n",
    "            model.fit(X,y)\n",
    "        return self\n",
    "    \n",
    "    def predict(self,X):\n",
    "        w = list()\n",
    "        pred = np.array([model.predict(X) for model in self.models_])\n",
    "        # for every data point, single model prediction times weight, then add them together\n",
    "        for data in range(pred.shape[1]):\n",
    "            single = [pred[model,data]*weight for model,weight in zip(range(pred.shape[0]),self.weight)]\n",
    "            w.append(np.sum(single))\n",
    "        return w\n",
    "        \n",
    "lasso = Lasso(alpha=0.0009,max_iter=10000)\n",
    "ridge = Ridge(alpha=35)\n",
    "ker = KernelRidge(alpha=0.5 ,kernel='polynomial',degree=3 , coef0=0.8)\n",
    "ela = ElasticNet(alpha=0.005,l1_ratio=0.3,max_iter=10000)\n",
    "bay = BayesianRidge()\n",
    "\n",
    "w1 = 0.15 #按R2指标赋权\n",
    "w2 = 0.15\n",
    "w3 = 0.4\n",
    "w4 = 0.15\n",
    "w5 = 0.15\n",
    "\n",
    "weight_avg = AverageWeight(mod = [lasso,ridge,ker,ela,bay],weight=[w1,w2,w3,w4,w5])\n",
    "r2(weight_avg,x_train,y_train)  "
   ]
  },
  {
   "cell_type": "code",
   "execution_count": 286,
   "metadata": {},
   "outputs": [
    {
     "data": {
      "text/plain": [
       "0.6182038981907569"
      ]
     },
     "execution_count": 286,
     "metadata": {},
     "output_type": "execute_result"
    }
   ],
   "source": [
    "r2(weight_avg,x_train,y_train).mean()"
   ]
  },
  {
   "cell_type": "code",
   "execution_count": 287,
   "metadata": {},
   "outputs": [],
   "source": [
    "from sklearn.impute import SimpleImputer\n",
    "class stacking(BaseEstimator, RegressorMixin, TransformerMixin):\n",
    "    def __init__(self,mod,meta_model):\n",
    "        self.mod = mod\n",
    "        self.meta_model = meta_model\n",
    "        self.kf = KFold(n_splits=5, random_state=42, shuffle=True)\n",
    "        \n",
    "    def fit(self,X,y):\n",
    "        self.saved_model = [list() for i in self.mod]\n",
    "        oof_train = np.zeros((X.shape[0], len(self.mod)))\n",
    "        \n",
    "        for i,model in enumerate(self.mod):\n",
    "            for train_index, val_index in self.kf.split(X,y):\n",
    "                renew_model = clone(model)\n",
    "                renew_model.fit(X[train_index], y[train_index])\n",
    "                self.saved_model[i].append(renew_model)\n",
    "                oof_train[val_index,i] = renew_model.predict(X[val_index])\n",
    "        \n",
    "        self.meta_model.fit(oof_train,y)\n",
    "        return self\n",
    "    \n",
    "    def predict(self,X):\n",
    "        whole_test = np.column_stack([np.column_stack(model.predict(X) for model in single_model).mean(axis=1) \n",
    "                                      for single_model in self.saved_model]) \n",
    "        return self.meta_model.predict(whole_test)\n",
    "    \n",
    "    def get_oof(self,X,y,test_X):\n",
    "        oof = np.zeros((X.shape[0],len(self.mod)))\n",
    "        test_single = np.zeros((test_X.shape[0],5))\n",
    "        test_mean = np.zeros((test_X.shape[0],len(self.mod)))\n",
    "        for i,model in enumerate(self.mod):\n",
    "            for j, (train_index,val_index) in enumerate(self.kf.split(X,y)):\n",
    "                clone_model = clone(model)\n",
    "                clone_model.fit(X[train_index],y[train_index])\n",
    "                oof[val_index,i] = clone_model.predict(X[val_index])\n",
    "                test_single[:,j] = clone_model.predict(test_X)\n",
    "            test_mean[:,i] = test_single.mean(axis=1)\n",
    "        return oof, test_mean\n",
    "a = SimpleImputer().fit_transform(x_train)\n",
    "b = SimpleImputer().fit_transform(y_train.values.reshape(-1,1)).ravel()\n",
    "stack_model = stacking(mod=[lasso,ridge,ker,ela,bay],meta_model=ker) \n"
   ]
  },
  {
   "cell_type": "code",
   "execution_count": null,
   "metadata": {},
   "outputs": [],
   "source": []
  }
 ],
 "metadata": {
  "kernelspec": {
   "display_name": "Python 3",
   "language": "python",
   "name": "python3"
  },
  "language_info": {
   "codemirror_mode": {
    "name": "ipython",
    "version": 3
   },
   "file_extension": ".py",
   "mimetype": "text/x-python",
   "name": "python",
   "nbconvert_exporter": "python",
   "pygments_lexer": "ipython3",
   "version": "3.6.8"
  }
 },
 "nbformat": 4,
 "nbformat_minor": 1
}
