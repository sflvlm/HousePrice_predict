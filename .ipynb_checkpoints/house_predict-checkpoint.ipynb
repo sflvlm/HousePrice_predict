{
 "cells": [
  {
   "cell_type": "code",
   "execution_count": 119,
   "metadata": {},
   "outputs": [
    {
     "data": {
      "text/html": [
       "<div>\n",
       "<style scoped>\n",
       "    .dataframe tbody tr th:only-of-type {\n",
       "        vertical-align: middle;\n",
       "    }\n",
       "\n",
       "    .dataframe tbody tr th {\n",
       "        vertical-align: top;\n",
       "    }\n",
       "\n",
       "    .dataframe thead th {\n",
       "        text-align: right;\n",
       "    }\n",
       "</style>\n",
       "<table border=\"1\" class=\"dataframe\">\n",
       "  <thead>\n",
       "    <tr style=\"text-align: right;\">\n",
       "      <th></th>\n",
       "      <th>area</th>\n",
       "      <th>buildtime</th>\n",
       "      <th>room_num</th>\n",
       "      <th>hall_num</th>\n",
       "      <th>floor</th>\n",
       "      <th>dire</th>\n",
       "      <th>exemption of business tax</th>\n",
       "      <th>exemption of double tax</th>\n",
       "      <th>quality education</th>\n",
       "      <th>distance</th>\n",
       "      <th>loc</th>\n",
       "      <th>price</th>\n",
       "    </tr>\n",
       "  </thead>\n",
       "  <tbody>\n",
       "    <tr>\n",
       "      <th>0</th>\n",
       "      <td>87.81</td>\n",
       "      <td>2008</td>\n",
       "      <td>2</td>\n",
       "      <td>2</td>\n",
       "      <td>1</td>\n",
       "      <td>1</td>\n",
       "      <td>1</td>\n",
       "      <td>0</td>\n",
       "      <td>1</td>\n",
       "      <td>5000</td>\n",
       "      <td>1</td>\n",
       "      <td>41567</td>\n",
       "    </tr>\n",
       "    <tr>\n",
       "      <th>1</th>\n",
       "      <td>137.00</td>\n",
       "      <td>2001</td>\n",
       "      <td>3</td>\n",
       "      <td>2</td>\n",
       "      <td>3</td>\n",
       "      <td>2</td>\n",
       "      <td>0</td>\n",
       "      <td>1</td>\n",
       "      <td>1</td>\n",
       "      <td>680</td>\n",
       "      <td>2</td>\n",
       "      <td>51095</td>\n",
       "    </tr>\n",
       "    <tr>\n",
       "      <th>2</th>\n",
       "      <td>69.00</td>\n",
       "      <td>2005</td>\n",
       "      <td>2</td>\n",
       "      <td>2</td>\n",
       "      <td>2</td>\n",
       "      <td>2</td>\n",
       "      <td>0</td>\n",
       "      <td>1</td>\n",
       "      <td>1</td>\n",
       "      <td>5000</td>\n",
       "      <td>3</td>\n",
       "      <td>10870</td>\n",
       "    </tr>\n",
       "    <tr>\n",
       "      <th>3</th>\n",
       "      <td>64.06</td>\n",
       "      <td>1986</td>\n",
       "      <td>2</td>\n",
       "      <td>1</td>\n",
       "      <td>2</td>\n",
       "      <td>1</td>\n",
       "      <td>0</td>\n",
       "      <td>1</td>\n",
       "      <td>0</td>\n",
       "      <td>495</td>\n",
       "      <td>4</td>\n",
       "      <td>60100</td>\n",
       "    </tr>\n",
       "    <tr>\n",
       "      <th>4</th>\n",
       "      <td>58.62</td>\n",
       "      <td>1997</td>\n",
       "      <td>2</td>\n",
       "      <td>1</td>\n",
       "      <td>3</td>\n",
       "      <td>1</td>\n",
       "      <td>0</td>\n",
       "      <td>0</td>\n",
       "      <td>1</td>\n",
       "      <td>776</td>\n",
       "      <td>5</td>\n",
       "      <td>52883</td>\n",
       "    </tr>\n",
       "  </tbody>\n",
       "</table>\n",
       "</div>"
      ],
      "text/plain": [
       "     area  buildtime  room_num  hall_num  floor  dire  \\\n",
       "0   87.81       2008         2         2      1     1   \n",
       "1  137.00       2001         3         2      3     2   \n",
       "2   69.00       2005         2         2      2     2   \n",
       "3   64.06       1986         2         1      2     1   \n",
       "4   58.62       1997         2         1      3     1   \n",
       "\n",
       "   exemption of business tax  exemption of double tax  quality education  \\\n",
       "0                          1                        0                  1   \n",
       "1                          0                        1                  1   \n",
       "2                          0                        1                  1   \n",
       "3                          0                        1                  0   \n",
       "4                          0                        0                  1   \n",
       "\n",
       "   distance  loc  price  \n",
       "0      5000    1  41567  \n",
       "1       680    2  51095  \n",
       "2      5000    3  10870  \n",
       "3       495    4  60100  \n",
       "4       776    5  52883  "
      ]
     },
     "execution_count": 119,
     "metadata": {},
     "output_type": "execute_result"
    }
   ],
   "source": [
    "import pandas as pd\n",
    "import seaborn as sns\n",
    "import matplotlib.pyplot as plt\n",
    "import numpy as np\n",
    "\n",
    "data = pd.read_csv('./data/data1.csv')\n",
    "data.head()\n"
   ]
  },
  {
   "cell_type": "code",
   "execution_count": 120,
   "metadata": {},
   "outputs": [
    {
     "data": {
      "text/plain": [
       "array([[-0.23902461,  0.38064437, -0.41207151, ...,  1.25409458,\n",
       "        -1.46165521, -0.43143775],\n",
       "       [ 0.52310296, -0.4724221 ,  0.75911233, ..., -0.77204649,\n",
       "        -1.43620223, -0.12914931],\n",
       "       [-0.53045823,  0.01504445, -0.41207151, ...,  1.25409458,\n",
       "        -1.41074925, -1.4053408 ],\n",
       "       ...,\n",
       "       [ 0.52511712,  1.35557748,  1.93029616, ..., -0.6927831 ,\n",
       "         1.13454895,  1.14177561],\n",
       "       [-0.55989597,  0.86811092, -1.58325534, ..., -0.54879576,\n",
       "        -0.72351873, -0.28444968],\n",
       "       [-1.1331572 , -2.42228832, -1.58325534, ..., -1.00983666,\n",
       "        -0.18900611,  0.77946096]])"
      ]
     },
     "execution_count": 120,
     "metadata": {},
     "output_type": "execute_result"
    }
   ],
   "source": [
    "from sklearn.preprocessing import StandardScaler\n",
    "s = StandardScaler()\n",
    "x = s.fit_transform(data)\n",
    "x"
   ]
  },
  {
   "cell_type": "code",
   "execution_count": 121,
   "metadata": {},
   "outputs": [
    {
     "data": {
      "text/html": [
       "<div>\n",
       "<style scoped>\n",
       "    .dataframe tbody tr th:only-of-type {\n",
       "        vertical-align: middle;\n",
       "    }\n",
       "\n",
       "    .dataframe tbody tr th {\n",
       "        vertical-align: top;\n",
       "    }\n",
       "\n",
       "    .dataframe thead th {\n",
       "        text-align: right;\n",
       "    }\n",
       "</style>\n",
       "<table border=\"1\" class=\"dataframe\">\n",
       "  <thead>\n",
       "    <tr style=\"text-align: right;\">\n",
       "      <th></th>\n",
       "      <th>area</th>\n",
       "      <th>buildtime</th>\n",
       "      <th>room_num</th>\n",
       "      <th>hall_num</th>\n",
       "      <th>floor</th>\n",
       "      <th>dire</th>\n",
       "      <th>exemption of business tax</th>\n",
       "      <th>exemption of double tax</th>\n",
       "      <th>quality education</th>\n",
       "      <th>distance</th>\n",
       "      <th>loc</th>\n",
       "    </tr>\n",
       "  </thead>\n",
       "  <tbody>\n",
       "    <tr>\n",
       "      <th>0</th>\n",
       "      <td>87.81</td>\n",
       "      <td>2008</td>\n",
       "      <td>2</td>\n",
       "      <td>2</td>\n",
       "      <td>1</td>\n",
       "      <td>1</td>\n",
       "      <td>1</td>\n",
       "      <td>0</td>\n",
       "      <td>1</td>\n",
       "      <td>5000</td>\n",
       "      <td>1</td>\n",
       "    </tr>\n",
       "    <tr>\n",
       "      <th>1</th>\n",
       "      <td>137.00</td>\n",
       "      <td>2001</td>\n",
       "      <td>3</td>\n",
       "      <td>2</td>\n",
       "      <td>3</td>\n",
       "      <td>2</td>\n",
       "      <td>0</td>\n",
       "      <td>1</td>\n",
       "      <td>1</td>\n",
       "      <td>680</td>\n",
       "      <td>2</td>\n",
       "    </tr>\n",
       "    <tr>\n",
       "      <th>2</th>\n",
       "      <td>69.00</td>\n",
       "      <td>2005</td>\n",
       "      <td>2</td>\n",
       "      <td>2</td>\n",
       "      <td>2</td>\n",
       "      <td>2</td>\n",
       "      <td>0</td>\n",
       "      <td>1</td>\n",
       "      <td>1</td>\n",
       "      <td>5000</td>\n",
       "      <td>3</td>\n",
       "    </tr>\n",
       "    <tr>\n",
       "      <th>3</th>\n",
       "      <td>64.06</td>\n",
       "      <td>1986</td>\n",
       "      <td>2</td>\n",
       "      <td>1</td>\n",
       "      <td>2</td>\n",
       "      <td>1</td>\n",
       "      <td>0</td>\n",
       "      <td>1</td>\n",
       "      <td>0</td>\n",
       "      <td>495</td>\n",
       "      <td>4</td>\n",
       "    </tr>\n",
       "    <tr>\n",
       "      <th>4</th>\n",
       "      <td>58.62</td>\n",
       "      <td>1997</td>\n",
       "      <td>2</td>\n",
       "      <td>1</td>\n",
       "      <td>3</td>\n",
       "      <td>1</td>\n",
       "      <td>0</td>\n",
       "      <td>0</td>\n",
       "      <td>1</td>\n",
       "      <td>776</td>\n",
       "      <td>5</td>\n",
       "    </tr>\n",
       "    <tr>\n",
       "      <th>...</th>\n",
       "      <td>...</td>\n",
       "      <td>...</td>\n",
       "      <td>...</td>\n",
       "      <td>...</td>\n",
       "      <td>...</td>\n",
       "      <td>...</td>\n",
       "      <td>...</td>\n",
       "      <td>...</td>\n",
       "      <td>...</td>\n",
       "      <td>...</td>\n",
       "      <td>...</td>\n",
       "    </tr>\n",
       "    <tr>\n",
       "      <th>5560</th>\n",
       "      <td>242.81</td>\n",
       "      <td>2010</td>\n",
       "      <td>4</td>\n",
       "      <td>3</td>\n",
       "      <td>1</td>\n",
       "      <td>1</td>\n",
       "      <td>0</td>\n",
       "      <td>1</td>\n",
       "      <td>1</td>\n",
       "      <td>770</td>\n",
       "      <td>55</td>\n",
       "    </tr>\n",
       "    <tr>\n",
       "      <th>5561</th>\n",
       "      <td>89.90</td>\n",
       "      <td>2007</td>\n",
       "      <td>2</td>\n",
       "      <td>2</td>\n",
       "      <td>3</td>\n",
       "      <td>2</td>\n",
       "      <td>0</td>\n",
       "      <td>1</td>\n",
       "      <td>1</td>\n",
       "      <td>511</td>\n",
       "      <td>44</td>\n",
       "    </tr>\n",
       "    <tr>\n",
       "      <th>5562</th>\n",
       "      <td>137.13</td>\n",
       "      <td>2016</td>\n",
       "      <td>4</td>\n",
       "      <td>2</td>\n",
       "      <td>3</td>\n",
       "      <td>2</td>\n",
       "      <td>0</td>\n",
       "      <td>0</td>\n",
       "      <td>0</td>\n",
       "      <td>849</td>\n",
       "      <td>103</td>\n",
       "    </tr>\n",
       "    <tr>\n",
       "      <th>5563</th>\n",
       "      <td>67.10</td>\n",
       "      <td>2012</td>\n",
       "      <td>1</td>\n",
       "      <td>2</td>\n",
       "      <td>3</td>\n",
       "      <td>1</td>\n",
       "      <td>0</td>\n",
       "      <td>1</td>\n",
       "      <td>0</td>\n",
       "      <td>1156</td>\n",
       "      <td>30</td>\n",
       "    </tr>\n",
       "    <tr>\n",
       "      <th>5564</th>\n",
       "      <td>30.10</td>\n",
       "      <td>1985</td>\n",
       "      <td>1</td>\n",
       "      <td>0</td>\n",
       "      <td>2</td>\n",
       "      <td>1</td>\n",
       "      <td>0</td>\n",
       "      <td>1</td>\n",
       "      <td>1</td>\n",
       "      <td>173</td>\n",
       "      <td>51</td>\n",
       "    </tr>\n",
       "  </tbody>\n",
       "</table>\n",
       "<p>5565 rows × 11 columns</p>\n",
       "</div>"
      ],
      "text/plain": [
       "        area  buildtime  room_num  hall_num  floor  dire  \\\n",
       "0      87.81       2008         2         2      1     1   \n",
       "1     137.00       2001         3         2      3     2   \n",
       "2      69.00       2005         2         2      2     2   \n",
       "3      64.06       1986         2         1      2     1   \n",
       "4      58.62       1997         2         1      3     1   \n",
       "...      ...        ...       ...       ...    ...   ...   \n",
       "5560  242.81       2010         4         3      1     1   \n",
       "5561   89.90       2007         2         2      3     2   \n",
       "5562  137.13       2016         4         2      3     2   \n",
       "5563   67.10       2012         1         2      3     1   \n",
       "5564   30.10       1985         1         0      2     1   \n",
       "\n",
       "      exemption of business tax  exemption of double tax  quality education  \\\n",
       "0                             1                        0                  1   \n",
       "1                             0                        1                  1   \n",
       "2                             0                        1                  1   \n",
       "3                             0                        1                  0   \n",
       "4                             0                        0                  1   \n",
       "...                         ...                      ...                ...   \n",
       "5560                          0                        1                  1   \n",
       "5561                          0                        1                  1   \n",
       "5562                          0                        0                  0   \n",
       "5563                          0                        1                  0   \n",
       "5564                          0                        1                  1   \n",
       "\n",
       "      distance  loc  \n",
       "0         5000    1  \n",
       "1          680    2  \n",
       "2         5000    3  \n",
       "3          495    4  \n",
       "4          776    5  \n",
       "...        ...  ...  \n",
       "5560       770   55  \n",
       "5561       511   44  \n",
       "5562       849  103  \n",
       "5563      1156   30  \n",
       "5564       173   51  \n",
       "\n",
       "[5565 rows x 11 columns]"
      ]
     },
     "execution_count": 121,
     "metadata": {},
     "output_type": "execute_result"
    }
   ],
   "source": [
    "from scipy.stats import norm,skew\n",
    "from sklearn.preprocessing import StandardScaler\n",
    "from scipy import stats\n",
    "from sklearn.linear_model import ElasticNet,Lasso,BayesianRidge,LassoLarsIC\n",
    "from sklearn.ensemble import RandomForestRegressor,GradientBoostingRegressor\n",
    "from sklearn.kernel_ridge import KernelRidge\n",
    "from sklearn.pipeline import make_pipeline\n",
    "from sklearn.preprocessing import RobustScaler\n",
    "from sklearn.base import BaseEstimator,TransformerMixin,RegressorMixin,clone\n",
    "from sklearn.model_selection import KFold,cross_val_score,train_test_split\n",
    "from sklearn.metrics import mean_squared_error\n",
    "import xgboost as xgb\n",
    "\n",
    "y = data['price']\n",
    "X = data.drop(['price'],axis=1)\n",
    "X"
   ]
  },
  {
   "cell_type": "code",
   "execution_count": 122,
   "metadata": {},
   "outputs": [],
   "source": [
    "x_train,x_test,y_train,y_test = train_test_split(X, y, random_state=0, test_size=0.25)\n",
    "ntrain = x_train.shape[0]"
   ]
  },
  {
   "cell_type": "code",
   "execution_count": 123,
   "metadata": {},
   "outputs": [
    {
     "name": "stdout",
     "output_type": "stream",
     "text": [
      "mu = 55165.73 and sigma = 31519.56\n"
     ]
    },
    {
     "data": {
      "image/png": "[encoded data removed]",
      "text/plain": [
       "<Figure size 432x288 with 1 Axes>"
      ]
     },
     "metadata": {
      "needs_background": "light"
     },
     "output_type": "display_data"
    },
    {
     "data": {
      "image/png": "[encoded data removed]",
      "text/plain": [
       "<Figure size 432x288 with 1 Axes>"
      ]
     },
     "metadata": {
      "needs_background": "light"
     },
     "output_type": "display_data"
    }
   ],
   "source": [
    "sns.distplot(y,fit=norm)\n",
    "mu,sigma = norm.fit(y) \n",
    "print('mu = {:.2f} and sigma = {:.2f}'.format(mu,sigma))\n",
    "\n",
    "# 分布图\n",
    "plt.legend(['Normal dist. ($\\mu=$ {:.2f}) and $\\sigma=$ {:.2f})'.format(mu,sigma)],loc='best')\n",
    "plt.ylabel('Frequency')\n",
    "plt.title('price distribution')\n",
    "\n",
    "# QQ图\n",
    "fig = plt.figure()\n",
    "res = stats.probplot(y,plot=plt)\n",
    "plt.show()"
   ]
  },
  {
   "cell_type": "code",
   "execution_count": 124,
   "metadata": {},
   "outputs": [
    {
     "name": "stdout",
     "output_type": "stream",
     "text": [
      "mu = 10.78 and sigma = 0.52\n"
     ]
    },
    {
     "data": {
      "image/png": "[encoded data removed]",
      "text/plain": [
       "<Figure size 432x288 with 1 Axes>"
      ]
     },
     "metadata": {
      "needs_background": "light"
     },
     "output_type": "display_data"
    },
    {
     "data": {
      "image/png": "[encoded data removed]",
      "text/plain": [
       "<Figure size 432x288 with 1 Axes>"
      ]
     },
     "metadata": {
      "needs_background": "light"
     },
     "output_type": "display_data"
    }
   ],
   "source": [
    "y = np.log1p(y_train)\n",
    "sns.distplot(y,fit=norm)\n",
    "mu,sigma = norm.fit(y) \n",
    "print('mu = {:.2f} and sigma = {:.2f}'.format(mu,sigma))\n",
    "\n",
    "# 分布图\n",
    "plt.legend(['Normal dist. ($\\mu=$ {:.2f}) and $\\sigma=$ {:.2f})'.format(mu,sigma)],loc='best')\n",
    "plt.ylabel('Frequency')\n",
    "plt.title('price distribution')\n",
    "\n",
    "# QQ图\n",
    "fig = plt.figure()\n",
    "res = stats.probplot(y,plot=plt)\n",
    "plt.show()"
   ]
  },
  {
   "cell_type": "code",
   "execution_count": 125,
   "metadata": {},
   "outputs": [
    {
     "name": "stdout",
     "output_type": "stream",
     "text": [
      "\n",
      "Skew in numerical features: \n",
      "\n"
     ]
    },
    {
     "data": {
      "text/html": [
       "<div>\n",
       "<style scoped>\n",
       "    .dataframe tbody tr th:only-of-type {\n",
       "        vertical-align: middle;\n",
       "    }\n",
       "\n",
       "    .dataframe tbody tr th {\n",
       "        vertical-align: top;\n",
       "    }\n",
       "\n",
       "    .dataframe thead th {\n",
       "        text-align: right;\n",
       "    }\n",
       "</style>\n",
       "<table border=\"1\" class=\"dataframe\">\n",
       "  <thead>\n",
       "    <tr style=\"text-align: right;\">\n",
       "      <th></th>\n",
       "      <th>Skew</th>\n",
       "    </tr>\n",
       "  </thead>\n",
       "  <tbody>\n",
       "    <tr>\n",
       "      <th>dire</th>\n",
       "      <td>4.114576</td>\n",
       "    </tr>\n",
       "    <tr>\n",
       "      <th>area</th>\n",
       "      <td>3.454519</td>\n",
       "    </tr>\n",
       "    <tr>\n",
       "      <th>exemption of business tax</th>\n",
       "      <td>1.648066</td>\n",
       "    </tr>\n",
       "    <tr>\n",
       "      <th>room_num</th>\n",
       "      <td>0.727823</td>\n",
       "    </tr>\n",
       "    <tr>\n",
       "      <th>loc</th>\n",
       "      <td>0.678689</td>\n",
       "    </tr>\n",
       "    <tr>\n",
       "      <th>distance</th>\n",
       "      <td>0.435314</td>\n",
       "    </tr>\n",
       "    <tr>\n",
       "      <th>floor</th>\n",
       "      <td>-0.177523</td>\n",
       "    </tr>\n",
       "    <tr>\n",
       "      <th>quality education</th>\n",
       "      <td>-0.185155</td>\n",
       "    </tr>\n",
       "    <tr>\n",
       "      <th>hall_num</th>\n",
       "      <td>-0.617007</td>\n",
       "    </tr>\n",
       "    <tr>\n",
       "      <th>exemption of double tax</th>\n",
       "      <td>-0.836359</td>\n",
       "    </tr>\n",
       "    <tr>\n",
       "      <th>buildtime</th>\n",
       "      <td>-1.001402</td>\n",
       "    </tr>\n",
       "  </tbody>\n",
       "</table>\n",
       "</div>"
      ],
      "text/plain": [
       "                               Skew\n",
       "dire                       4.114576\n",
       "area                       3.454519\n",
       "exemption of business tax  1.648066\n",
       "room_num                   0.727823\n",
       "loc                        0.678689\n",
       "distance                   0.435314\n",
       "floor                     -0.177523\n",
       "quality education         -0.185155\n",
       "hall_num                  -0.617007\n",
       "exemption of double tax   -0.836359\n",
       "buildtime                 -1.001402"
      ]
     },
     "execution_count": 125,
     "metadata": {},
     "output_type": "execute_result"
    }
   ],
   "source": [
    "#计算偏度\n",
    "from scipy.stats import norm,skew\n",
    "\n",
    "numeric_feats = X.dtypes[X.dtypes != 'object'].index\n",
    "\n",
    "# Check the skew of all numerical features\n",
    "skewed_feats = X[numeric_feats].apply(lambda x: skew(x.dropna())).sort_values(ascending=False)\n",
    "print('\\nSkew in numerical features: \\n')\n",
    "skewness = pd.DataFrame({'Skew' :skewed_feats})\n",
    "skewness.head(20)"
   ]
  },
  {
   "cell_type": "code",
   "execution_count": 126,
   "metadata": {},
   "outputs": [
    {
     "name": "stdout",
     "output_type": "stream",
     "text": [
      "There are 5 skewed numerical features to Box Cox transfrom\n"
     ]
    }
   ],
   "source": [
    "# Box_Cox变换使其满足正态分布\n",
    "skewness = skewness[abs(skewness)> 0.75]\n",
    "print('There are {} skewed numerical features to Box Cox transfrom'.format(skewness.dropna().shape[0]))\n",
    "\n",
    "from scipy.special import boxcox1p\n",
    "skewed_features = skewness.dropna().index\n",
    "lam=0.15    #经验值0.15\n",
    "for feat in skewed_features:\n",
    "    X[feat] = boxcox1p(X[feat],lam)"
   ]
  },
  {
   "cell_type": "code",
   "execution_count": 127,
   "metadata": {},
   "outputs": [
    {
     "data": {
      "text/html": [
       "<div>\n",
       "<style scoped>\n",
       "    .dataframe tbody tr th:only-of-type {\n",
       "        vertical-align: middle;\n",
       "    }\n",
       "\n",
       "    .dataframe tbody tr th {\n",
       "        vertical-align: top;\n",
       "    }\n",
       "\n",
       "    .dataframe thead th {\n",
       "        text-align: right;\n",
       "    }\n",
       "</style>\n",
       "<table border=\"1\" class=\"dataframe\">\n",
       "  <thead>\n",
       "    <tr style=\"text-align: right;\">\n",
       "      <th></th>\n",
       "      <th>area</th>\n",
       "      <th>buildtime</th>\n",
       "      <th>room_num</th>\n",
       "      <th>hall_num</th>\n",
       "      <th>floor</th>\n",
       "      <th>dire</th>\n",
       "      <th>exemption of business tax</th>\n",
       "      <th>exemption of double tax</th>\n",
       "      <th>quality education</th>\n",
       "      <th>distance</th>\n",
       "      <th>loc</th>\n",
       "    </tr>\n",
       "  </thead>\n",
       "  <tbody>\n",
       "    <tr>\n",
       "      <th>0</th>\n",
       "      <td>6.400397</td>\n",
       "      <td>14.195323</td>\n",
       "      <td>2</td>\n",
       "      <td>2</td>\n",
       "      <td>1</td>\n",
       "      <td>0.730463</td>\n",
       "      <td>0.730463</td>\n",
       "      <td>0.000000</td>\n",
       "      <td>1</td>\n",
       "      <td>5000</td>\n",
       "      <td>1</td>\n",
       "    </tr>\n",
       "    <tr>\n",
       "      <th>1</th>\n",
       "      <td>7.293500</td>\n",
       "      <td>14.184404</td>\n",
       "      <td>3</td>\n",
       "      <td>2</td>\n",
       "      <td>3</td>\n",
       "      <td>1.194318</td>\n",
       "      <td>0.000000</td>\n",
       "      <td>0.730463</td>\n",
       "      <td>1</td>\n",
       "      <td>680</td>\n",
       "      <td>2</td>\n",
       "    </tr>\n",
       "    <tr>\n",
       "      <th>2</th>\n",
       "      <td>5.942124</td>\n",
       "      <td>14.190647</td>\n",
       "      <td>2</td>\n",
       "      <td>2</td>\n",
       "      <td>2</td>\n",
       "      <td>1.194318</td>\n",
       "      <td>0.000000</td>\n",
       "      <td>0.730463</td>\n",
       "      <td>1</td>\n",
       "      <td>5000</td>\n",
       "      <td>3</td>\n",
       "    </tr>\n",
       "    <tr>\n",
       "      <th>3</th>\n",
       "      <td>5.804465</td>\n",
       "      <td>14.160895</td>\n",
       "      <td>2</td>\n",
       "      <td>1</td>\n",
       "      <td>2</td>\n",
       "      <td>0.730463</td>\n",
       "      <td>0.000000</td>\n",
       "      <td>0.730463</td>\n",
       "      <td>0</td>\n",
       "      <td>495</td>\n",
       "      <td>4</td>\n",
       "    </tr>\n",
       "    <tr>\n",
       "      <th>4</th>\n",
       "      <td>5.642185</td>\n",
       "      <td>14.178149</td>\n",
       "      <td>2</td>\n",
       "      <td>1</td>\n",
       "      <td>3</td>\n",
       "      <td>0.730463</td>\n",
       "      <td>0.000000</td>\n",
       "      <td>0.000000</td>\n",
       "      <td>1</td>\n",
       "      <td>776</td>\n",
       "      <td>5</td>\n",
       "    </tr>\n",
       "    <tr>\n",
       "      <th>...</th>\n",
       "      <td>...</td>\n",
       "      <td>...</td>\n",
       "      <td>...</td>\n",
       "      <td>...</td>\n",
       "      <td>...</td>\n",
       "      <td>...</td>\n",
       "      <td>...</td>\n",
       "      <td>...</td>\n",
       "      <td>...</td>\n",
       "      <td>...</td>\n",
       "      <td>...</td>\n",
       "    </tr>\n",
       "    <tr>\n",
       "      <th>4168</th>\n",
       "      <td>6.454709</td>\n",
       "      <td>14.201549</td>\n",
       "      <td>2</td>\n",
       "      <td>2</td>\n",
       "      <td>3</td>\n",
       "      <td>0.730463</td>\n",
       "      <td>0.730463</td>\n",
       "      <td>0.000000</td>\n",
       "      <td>1</td>\n",
       "      <td>5000</td>\n",
       "      <td>82</td>\n",
       "    </tr>\n",
       "    <tr>\n",
       "      <th>4169</th>\n",
       "      <td>5.925854</td>\n",
       "      <td>14.175018</td>\n",
       "      <td>2</td>\n",
       "      <td>1</td>\n",
       "      <td>1</td>\n",
       "      <td>0.730463</td>\n",
       "      <td>0.000000</td>\n",
       "      <td>0.730463</td>\n",
       "      <td>1</td>\n",
       "      <td>1022</td>\n",
       "      <td>103</td>\n",
       "    </tr>\n",
       "    <tr>\n",
       "      <th>4170</th>\n",
       "      <td>7.531050</td>\n",
       "      <td>14.199993</td>\n",
       "      <td>3</td>\n",
       "      <td>2</td>\n",
       "      <td>1</td>\n",
       "      <td>0.730463</td>\n",
       "      <td>0.000000</td>\n",
       "      <td>0.000000</td>\n",
       "      <td>0</td>\n",
       "      <td>147</td>\n",
       "      <td>135</td>\n",
       "    </tr>\n",
       "    <tr>\n",
       "      <th>4171</th>\n",
       "      <td>6.156333</td>\n",
       "      <td>14.203103</td>\n",
       "      <td>2</td>\n",
       "      <td>2</td>\n",
       "      <td>2</td>\n",
       "      <td>1.194318</td>\n",
       "      <td>0.000000</td>\n",
       "      <td>0.730463</td>\n",
       "      <td>0</td>\n",
       "      <td>5000</td>\n",
       "      <td>33</td>\n",
       "    </tr>\n",
       "    <tr>\n",
       "      <th>4172</th>\n",
       "      <td>5.942124</td>\n",
       "      <td>14.204657</td>\n",
       "      <td>2</td>\n",
       "      <td>1</td>\n",
       "      <td>3</td>\n",
       "      <td>0.730463</td>\n",
       "      <td>0.730463</td>\n",
       "      <td>0.000000</td>\n",
       "      <td>0</td>\n",
       "      <td>5000</td>\n",
       "      <td>23</td>\n",
       "    </tr>\n",
       "  </tbody>\n",
       "</table>\n",
       "<p>4173 rows × 11 columns</p>\n",
       "</div>"
      ],
      "text/plain": [
       "          area  buildtime  room_num  hall_num  floor      dire  \\\n",
       "0     6.400397  14.195323         2         2      1  0.730463   \n",
       "1     7.293500  14.184404         3         2      3  1.194318   \n",
       "2     5.942124  14.190647         2         2      2  1.194318   \n",
       "3     5.804465  14.160895         2         1      2  0.730463   \n",
       "4     5.642185  14.178149         2         1      3  0.730463   \n",
       "...        ...        ...       ...       ...    ...       ...   \n",
       "4168  6.454709  14.201549         2         2      3  0.730463   \n",
       "4169  5.925854  14.175018         2         1      1  0.730463   \n",
       "4170  7.531050  14.199993         3         2      1  0.730463   \n",
       "4171  6.156333  14.203103         2         2      2  1.194318   \n",
       "4172  5.942124  14.204657         2         1      3  0.730463   \n",
       "\n",
       "      exemption of business tax  exemption of double tax  quality education  \\\n",
       "0                      0.730463                 0.000000                  1   \n",
       "1                      0.000000                 0.730463                  1   \n",
       "2                      0.000000                 0.730463                  1   \n",
       "3                      0.000000                 0.730463                  0   \n",
       "4                      0.000000                 0.000000                  1   \n",
       "...                         ...                      ...                ...   \n",
       "4168                   0.730463                 0.000000                  1   \n",
       "4169                   0.000000                 0.730463                  1   \n",
       "4170                   0.000000                 0.000000                  0   \n",
       "4171                   0.000000                 0.730463                  0   \n",
       "4172                   0.730463                 0.000000                  0   \n",
       "\n",
       "      distance  loc  \n",
       "0         5000    1  \n",
       "1          680    2  \n",
       "2         5000    3  \n",
       "3          495    4  \n",
       "4          776    5  \n",
       "...        ...  ...  \n",
       "4168      5000   82  \n",
       "4169      1022  103  \n",
       "4170       147  135  \n",
       "4171      5000   33  \n",
       "4172      5000   23  \n",
       "\n",
       "[4173 rows x 11 columns]"
      ]
     },
     "execution_count": 127,
     "metadata": {},
     "output_type": "execute_result"
    }
   ],
   "source": [
    "train = X[:ntrain]\n",
    "test = X[ntrain:]\n",
    "train"
   ]
  },
  {
   "cell_type": "code",
   "execution_count": 128,
   "metadata": {},
   "outputs": [
    {
     "data": {
      "text/plain": [
       "<matplotlib.axes._subplots.AxesSubplot at 0x24ffc663b38>"
      ]
     },
     "execution_count": 128,
     "metadata": {},
     "output_type": "execute_result"
    },
    {
     "data": {
      "image/png": "[encoded data removed]",
      "text/plain": [
       "<Figure size 432x288 with 1 Axes>"
      ]
     },
     "metadata": {
      "needs_background": "light"
     },
     "output_type": "display_data"
    }
   ],
   "source": [
    "sns.distplot(train['area'])"
   ]
  },
  {
   "cell_type": "code",
   "execution_count": 145,
   "metadata": {},
   "outputs": [],
   "source": [
    "n_folds=5\n",
    "def rmsle_cv(model):\n",
    "    kf = KFold(n_folds, shuffle=True, random_state=42).get_n_splits(train.values)\n",
    "    rmse = np.sqrt(-cross_val_score(model,train.values,y,scoring='neg_mean_squared_error',cv = kf))\n",
    "    return rmse"
   ]
  },
  {
   "cell_type": "code",
   "execution_count": 130,
   "metadata": {},
   "outputs": [],
   "source": [
    "# make_pipline:级联起来做事   RobustScaler:更适合处理离群点\n",
    "lasso = make_pipeline(RobustScaler(),Lasso(alpha=0.0005,random_state=1))"
   ]
  },
  {
   "cell_type": "code",
   "execution_count": 131,
   "metadata": {},
   "outputs": [],
   "source": [
    "# ElasticNet同时使用了L1和L2\n",
    "Enet = make_pipeline(RobustScaler(),ElasticNet(alpha=0.0005, l1_ratio=0.9, random_state=3))"
   ]
  },
  {
   "cell_type": "code",
   "execution_count": 132,
   "metadata": {},
   "outputs": [],
   "source": [
    "# KernelRidge带有核函数的岭回归\n",
    "KRR = KernelRidge(alpha=0.6, kernel='polynomial', degree=2, coef0=2.5)"
   ]
  },
  {
   "cell_type": "code",
   "execution_count": 133,
   "metadata": {},
   "outputs": [],
   "source": [
    "GBoost = GradientBoostingRegressor(loss='huber', learning_rate=0.05, n_estimators=3000,\n",
    "                 min_samples_split=10,min_samples_leaf=15,max_depth=4,random_state=5,\n",
    "                 max_features='sqrt')"
   ]
  },
  {
   "cell_type": "code",
   "execution_count": 134,
   "metadata": {},
   "outputs": [],
   "source": [
    "model_xgb = xgb.XGBRegressor(colsample_bytree=0.4603, gamma=0.0468,learning_rate=0.05,max_depth=3,\n",
    "                             min_child_weight=1.7817,n_estimators=2200,reg_alpha=0.4640,reg_lambda=0.8571,\n",
    "                             subsample=0.5213,silent=1,nthread=-1)"
   ]
  },
  {
   "cell_type": "code",
   "execution_count": 135,
   "metadata": {},
   "outputs": [],
   "source": [
    "from sklearn.neighbors import KNeighborsRegressor\n",
    "KNN = KNeighborsRegressor(n_neighbors=9,weights='distance',p=1)"
   ]
  },
  {
   "cell_type": "code",
   "execution_count": 144,
   "metadata": {},
   "outputs": [
    {
     "name": "stdout",
     "output_type": "stream",
     "text": [
      "\n",
      "Lasso score: -0.2731(0.0068)\n",
      "\n"
     ]
    }
   ],
   "source": [
    "score = rmsle_cv(lasso)\n",
    "print('\\nLasso score: {:.4f}({:.4f})\\n'.format(score.mean(),score.std()))"
   ]
  },
  {
   "cell_type": "code",
   "execution_count": 137,
   "metadata": {},
   "outputs": [
    {
     "name": "stdout",
     "output_type": "stream",
     "text": [
      "\n",
      "ENet score: 0.5225(0.0066)\n",
      "\n"
     ]
    }
   ],
   "source": [
    "score = rmsle_cv(Enet)\n",
    "print('\\nENet score: {:.4f}({:.4f})\\n'.format(score.mean(),score.std()))"
   ]
  },
  {
   "cell_type": "code",
   "execution_count": 138,
   "metadata": {},
   "outputs": [
    {
     "name": "stderr",
     "output_type": "stream",
     "text": [
      "d:\\virtualenv\\hp_pre\\lib\\site-packages\\sklearn\\linear_model\\_ridge.py:188: LinAlgWarning: Ill-conditioned matrix (rcond=6.54358e-18): result may not be accurate.\n",
      "  overwrite_a=False)\n",
      "d:\\virtualenv\\hp_pre\\lib\\site-packages\\sklearn\\linear_model\\_ridge.py:188: LinAlgWarning: Ill-conditioned matrix (rcond=6.32502e-18): result may not be accurate.\n",
      "  overwrite_a=False)\n",
      "d:\\virtualenv\\hp_pre\\lib\\site-packages\\sklearn\\linear_model\\_ridge.py:188: LinAlgWarning: Ill-conditioned matrix (rcond=6.17613e-18): result may not be accurate.\n",
      "  overwrite_a=False)\n",
      "d:\\virtualenv\\hp_pre\\lib\\site-packages\\sklearn\\linear_model\\_ridge.py:188: LinAlgWarning: Ill-conditioned matrix (rcond=6.16997e-18): result may not be accurate.\n",
      "  overwrite_a=False)\n"
     ]
    },
    {
     "name": "stdout",
     "output_type": "stream",
     "text": [
      "\n",
      "KernelRidge score: 0.5323(0.0093)\n",
      "\n"
     ]
    },
    {
     "name": "stderr",
     "output_type": "stream",
     "text": [
      "d:\\virtualenv\\hp_pre\\lib\\site-packages\\sklearn\\linear_model\\_ridge.py:188: LinAlgWarning: Ill-conditioned matrix (rcond=5.80329e-18): result may not be accurate.\n",
      "  overwrite_a=False)\n"
     ]
    }
   ],
   "source": [
    "score = rmsle_cv(KRR)\n",
    "print('\\nKernelRidge score: {:.4f}({:.4f})\\n'.format(score.mean(),score.std()))"
   ]
  },
  {
   "cell_type": "code",
   "execution_count": 139,
   "metadata": {},
   "outputs": [
    {
     "name": "stdout",
     "output_type": "stream",
     "text": [
      "\n",
      "GBoost score: 0.5763(0.0099)\n",
      "\n"
     ]
    }
   ],
   "source": [
    "score = rmsle_cv(GBoost)\n",
    "print('\\nGBoost score: {:.4f}({:.4f})\\n'.format(score.mean(),score.std()))"
   ]
  },
  {
   "cell_type": "code",
   "execution_count": 140,
   "metadata": {},
   "outputs": [
    {
     "name": "stdout",
     "output_type": "stream",
     "text": [
      "\n",
      "xgb score: 0.5630(0.0089)\n",
      "\n"
     ]
    }
   ],
   "source": [
    "score = rmsle_cv(model_xgb)\n",
    "print('\\nxgb score: {:.4f}({:.4f})\\n'.format(score.mean(),score.std()))"
   ]
  },
  {
   "cell_type": "code",
   "execution_count": 142,
   "metadata": {},
   "outputs": [
    {
     "name": "stdout",
     "output_type": "stream",
     "text": [
      "\n",
      "KNN score: 0.6008(0.0153)\n",
      "\n"
     ]
    }
   ],
   "source": [
    "score = rmsle_cv(KNN)\n",
    "print('\\nKNN score: {:.4f}({:.4f})\\n'.format(score.mean(),score.std()))"
   ]
  },
  {
   "cell_type": "code",
   "execution_count": null,
   "metadata": {},
   "outputs": [],
   "source": []
  }
 ],
 "metadata": {
  "kernelspec": {
   "display_name": "Python 3",
   "language": "python",
   "name": "python3"
  },
  "language_info": {
   "codemirror_mode": {
    "name": "ipython",
    "version": 3
   },
   "file_extension": ".py",
   "mimetype": "text/x-python",
   "name": "python",
   "nbconvert_exporter": "python",
   "pygments_lexer": "ipython3",
   "version": "3.6.8"
  }
 },
 "nbformat": 4,
 "nbformat_minor": 4
}
